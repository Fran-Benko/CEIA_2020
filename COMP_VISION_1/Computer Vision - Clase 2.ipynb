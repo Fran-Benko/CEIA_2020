{
 "cells": [
  {
   "cell_type": "code",
   "execution_count": 2,
   "metadata": {},
   "outputs": [
    {
     "name": "stdout",
     "output_type": "stream",
     "text": [
      "Using matplotlib backend: MacOSX\n"
     ]
    }
   ],
   "source": [
    "import cv2 as cv\n",
    "\n",
    "import matplotlib.pyplot as plt\n",
    "import numpy as np\n",
    "\n",
    "%matplotlib"
   ]
  },
  {
   "cell_type": "markdown",
   "metadata": {},
   "source": [
    "## Importado de imagen"
   ]
  },
  {
   "cell_type": "code",
   "execution_count": 3,
   "metadata": {},
   "outputs": [],
   "source": [
    "path_croma_1 = '/Users/francobenko/Documents/DataSets/Computer Vision - Clase 2/CoordCrom_1.png'\n",
    "path_croma_2 = '/Users/francobenko/Documents/DataSets/Computer Vision - Clase 2/CoordCrom_2.png'\n",
    "path_croma_3 = '/Users/francobenko/Documents/DataSets/Computer Vision - Clase 2/CoordCrom_3.png'\n",
    "\n",
    "path_wp_B = '/Users/francobenko/Documents/DataSets/Computer Vision - Clase 2/WP_B.png'\n",
    "path_wp_O = '/Users/francobenko/Documents/DataSets/Computer Vision - Clase 2/WP_O.png'\n",
    "path_wp_R = '/Users/francobenko/Documents/DataSets/Computer Vision - Clase 2/WP_R.png'"
   ]
  },
  {
   "cell_type": "markdown",
   "metadata": {},
   "source": [
    "# Fotos Iniciales para Coordenadas Cromaticas"
   ]
  },
  {
   "cell_type": "code",
   "execution_count": 5,
   "metadata": {},
   "outputs": [],
   "source": [
    "#Creado de imagenes\n",
    "imgi_croma_1 = cv.imread(path_croma_1)\n",
    "imgRGBi_croma_1 = cv.cvtColor(imgi_croma_1, cv.COLOR_BGR2RGB)\n",
    "\n",
    "imgi_croma_2 = cv.imread(path_croma_2)\n",
    "imgRGBi_croma_2 = cv.cvtColor(imgi_croma_2, cv.COLOR_BGR2RGB)\n",
    "\n",
    "imgi_croma_3 = cv.imread(path_croma_3)\n",
    "imgRGBi_croma_3 = cv.cvtColor(imgi_croma_3, cv.COLOR_BGR2RGB)\n",
    "\n",
    "\n",
    "#Ploteado de imagenes\n",
    "fig_i = plt.figure()\n",
    "ax1 = plt.subplot(131)\n",
    "ax1.imshow(imgRGBi_croma_1)\n",
    "\n",
    "ax2 = plt.subplot(132)\n",
    "ax2.imshow(imgRGBi_croma_2)\n",
    "\n",
    "ax3 = plt.subplot(133)\n",
    "ax3.imshow(imgRGBi_croma_3)\n",
    "\n",
    "plt.show()"
   ]
  },
  {
   "cell_type": "markdown",
   "metadata": {},
   "source": [
    "## Implementacion de Algoritmo de pasaje a coordenadas cromaticas"
   ]
  },
  {
   "cell_type": "code",
   "execution_count": 8,
   "metadata": {},
   "outputs": [],
   "source": [
    "def algo_coord_cromaticas_RGB(imagen):\n",
    "    im_r=0\n",
    "    im_g=0\n",
    "    im_b=0\n",
    "    mat_sum_rgb=0\n",
    "    img_r_croma=0\n",
    "    img_g_croma=0\n",
    "    img_b_croma=0\n",
    "    img_croma=0\n",
    "    \n",
    "    #Separo las matrices de cada color\n",
    "    im_r,im_g,im_b = cv.split(imagen)\n",
    "    #Armo el divisor para las coordenadas cromaticas\n",
    "    mat_sum_rgb = im_r + im_g + im_b\n",
    "    #Calculo las matrices RGB en coordenadas cromaticas y las limito al 0-255\n",
    "    #Matriz R\n",
    "    img_r_croma = im_r / mat_sum_rgb\n",
    "    #Redondeo\n",
    "    img_r_croma= img_r_croma.round()\n",
    "    #Recortado del rango de valores\n",
    "    np.clip(img_r_croma, 0, 255, out=img_r_croma)\n",
    "    #Casteo a 8 bits\n",
    "    img_r_croma=img_r_croma.astype('uint8')\n",
    "    \n",
    "    #Matriz G\n",
    "    img_g_croma = im_g / mat_sum_rgb\n",
    "    #Redondeo\n",
    "    img_g_croma= np.round(img_g_croma)\n",
    "    #Recortado del rango de valores\n",
    "    np.clip(img_g_croma, 0, 255, out=img_g_croma)\n",
    "    #Casteo a 8 bits\n",
    "    img_g_croma=img_g_croma.astype('uint8')\n",
    "    \n",
    "    #Matriz B\n",
    "    img_b_croma = im_b / mat_sum_rgb\n",
    "    #Redondeo\n",
    "    img_b_croma=np.round(img_b_croma)\n",
    "    #Recortado del rango de valores\n",
    "    np.clip(img_b_croma, 0, 255, out=img_b_croma)\n",
    "    #Casteo a 8 bits\n",
    "    img_b_croma=img_b_croma.astype('uint8')\n",
    "    \n",
    "    \n",
    "    #Imagen en coordenada polar\n",
    "    img_croma = cv.merge((img_r_croma,img_g_croma,img_b_croma))\n",
    "    \n",
    "    return img_croma"
   ]
  },
  {
   "cell_type": "code",
   "execution_count": 9,
   "metadata": {
    "collapsed": true
   },
   "outputs": [
    {
     "name": "stderr",
     "output_type": "stream",
     "text": [
      "/Users/francobenko/anaconda3/lib/python3.7/site-packages/ipykernel_launcher.py:17: RuntimeWarning: divide by zero encountered in true_divide\n",
      "/Users/francobenko/anaconda3/lib/python3.7/site-packages/ipykernel_launcher.py:17: RuntimeWarning: invalid value encountered in true_divide\n",
      "/Users/francobenko/anaconda3/lib/python3.7/site-packages/ipykernel_launcher.py:26: RuntimeWarning: divide by zero encountered in true_divide\n",
      "/Users/francobenko/anaconda3/lib/python3.7/site-packages/ipykernel_launcher.py:26: RuntimeWarning: invalid value encountered in true_divide\n",
      "/Users/francobenko/anaconda3/lib/python3.7/site-packages/ipykernel_launcher.py:35: RuntimeWarning: divide by zero encountered in true_divide\n",
      "/Users/francobenko/anaconda3/lib/python3.7/site-packages/ipykernel_launcher.py:35: RuntimeWarning: invalid value encountered in true_divide\n"
     ]
    }
   ],
   "source": [
    "imgRGBf_croma_1 = algo_coord_cromaticas_RGB(imgRGBi_croma_1)\n",
    "\n",
    "imgRGBf_croma_2 = algo_coord_cromaticas_RGB(imgRGBi_croma_2)\n",
    "\n",
    "imgRGBf_croma_3 = algo_coord_cromaticas_RGB(imgRGBi_croma_3)"
   ]
  },
  {
   "cell_type": "code",
   "execution_count": 10,
   "metadata": {},
   "outputs": [],
   "source": [
    "#Ploteado de imagenes\n",
    "fig_i = plt.figure()\n",
    "ax1 = plt.subplot(231)\n",
    "ax1.imshow(imgRGBi_croma_1)\n",
    "\n",
    "ax2 = plt.subplot(232)\n",
    "ax2.imshow(imgRGBi_croma_2)\n",
    "\n",
    "ax3 = plt.subplot(233)\n",
    "ax3.imshow(imgRGBi_croma_3)\n",
    "\n",
    "ax4 = plt.subplot(234)\n",
    "ax4.imshow(imgRGBf_croma_1)\n",
    "\n",
    "ax5 = plt.subplot(235)\n",
    "ax5.imshow(imgRGBf_croma_2)\n",
    "\n",
    "ax6 = plt.subplot(236)\n",
    "ax6.imshow(imgRGBf_croma_3)\n",
    "\n",
    "plt.show()"
   ]
  },
  {
   "cell_type": "markdown",
   "metadata": {},
   "source": [
    "# Fotos Iniciales para White-Patch"
   ]
  },
  {
   "cell_type": "code",
   "execution_count": 6,
   "metadata": {},
   "outputs": [],
   "source": [
    "#Creado de imagenes\n",
    "imgi_wp_B = cv.imread(path_wp_B)\n",
    "imgRGBi_wp_B = cv.cvtColor(imgi_wp_B, cv.COLOR_BGR2RGB)\n",
    "\n",
    "imgi_wp_O = cv.imread(path_wp_O)\n",
    "imgRGBi_wp_O = cv.cvtColor(imgi_wp_O, cv.COLOR_BGR2RGB)\n",
    "\n",
    "imgi_wp_R = cv.imread(path_wp_R)\n",
    "imgRGBi_wp_R = cv.cvtColor(imgi_wp_R, cv.COLOR_BGR2RGB)\n",
    "\n",
    "\n",
    "#Ploteado de imagenes\n",
    "fig_i = plt.figure()\n",
    "ax1 = plt.subplot(131)\n",
    "ax1.imshow(imgRGBi_wp_B)\n",
    "\n",
    "ax2 = plt.subplot(132)\n",
    "ax2.imshow(imgRGBi_wp_O)\n",
    "\n",
    "ax3 = plt.subplot(133)\n",
    "ax3.imshow(imgRGBi_wp_R)\n",
    "\n",
    "plt.show()"
   ]
  },
  {
   "cell_type": "markdown",
   "metadata": {},
   "source": [
    "## Implementacion de Algoritmo White-Patch"
   ]
  },
  {
   "cell_type": "code",
   "execution_count": 11,
   "metadata": {},
   "outputs": [],
   "source": [
    "def algo_coord_white_patch_RGB(imagen):\n",
    "    im_r=0\n",
    "    im_g=0\n",
    "    im_b=0\n",
    "    max_r=0\n",
    "    max_g=0\n",
    "    max_b=0\n",
    "    img_r_wp=0\n",
    "    img_g_wp=0\n",
    "    img_b_wp=0\n",
    "    img_wp=0\n",
    "    \n",
    "    #Separo las matrices de cada color\n",
    "    im_r,im_g,im_b = cv.split(imagen)\n",
    "    #Armo los divisor para el mapeo WP\n",
    "    max_r = np.max(im_r)\n",
    "    max_g = np.max(im_g)\n",
    "    max_b = np.max(im_b)\n",
    "    \n",
    "    #Calculo las matrices RGB mapeadas a WP y las limito al 0-255\n",
    "    #Matriz R\n",
    "    img_r_wp = im_r * 255 / max_r\n",
    "    #Redondeo\n",
    "    img_r_wp= img_r_wp.round()\n",
    "    #Recortado del rango de valores\n",
    "    np.clip(img_r_wp, 0, 255, out=img_r_wp)\n",
    "    #Casteo a 8 bits\n",
    "    img_r_wp=img_r_wp.astype('uint8')\n",
    "    \n",
    "    #Matriz G\n",
    "    img_g_wp = im_g * 255 / max_g\n",
    "    #Redondeo\n",
    "    img_g_wp= np.round(img_g_wp)\n",
    "    #Recortado del rango de valores\n",
    "    np.clip(img_g_wp, 0, 255, out=img_g_wp)\n",
    "    #Casteo a 8 bits\n",
    "    img_g_wp=img_g_wp.astype('uint8')\n",
    "    \n",
    "    #Matriz B\n",
    "    img_b_wp = im_b * 255 / max_b\n",
    "    #Redondeo\n",
    "    img_b_wp=np.round(img_b_wp)\n",
    "    #Recortado del rango de valores\n",
    "    np.clip(img_b_wp, 0, 255, out=img_b_wp)\n",
    "    #Casteo a 8 bits\n",
    "    img_b_wp=img_b_wp.astype('uint8')\n",
    "    \n",
    "    \n",
    "    #Imagen en coordenada polar\n",
    "    img_wp = cv.merge((img_r_wp,img_g_wp,img_b_wp))\n",
    "    #plt.imshow(img_wp)\n",
    "    #plt.show()\n",
    "    \n",
    "    return img_wp"
   ]
  },
  {
   "cell_type": "code",
   "execution_count": 12,
   "metadata": {
    "collapsed": true
   },
   "outputs": [
    {
     "name": "stderr",
     "output_type": "stream",
     "text": [
      "/Users/francobenko/anaconda3/lib/python3.7/site-packages/ipykernel_launcher.py:17: RuntimeWarning: divide by zero encountered in true_divide\n",
      "/Users/francobenko/anaconda3/lib/python3.7/site-packages/ipykernel_launcher.py:17: RuntimeWarning: invalid value encountered in true_divide\n",
      "/Users/francobenko/anaconda3/lib/python3.7/site-packages/ipykernel_launcher.py:26: RuntimeWarning: divide by zero encountered in true_divide\n",
      "/Users/francobenko/anaconda3/lib/python3.7/site-packages/ipykernel_launcher.py:26: RuntimeWarning: invalid value encountered in true_divide\n",
      "/Users/francobenko/anaconda3/lib/python3.7/site-packages/ipykernel_launcher.py:35: RuntimeWarning: divide by zero encountered in true_divide\n",
      "/Users/francobenko/anaconda3/lib/python3.7/site-packages/ipykernel_launcher.py:35: RuntimeWarning: invalid value encountered in true_divide\n"
     ]
    }
   ],
   "source": [
    "imgRGBf_wp_B = algo_coord_cromaticas_RGB(imgRGBi_wp_B)\n",
    "\n",
    "imgRGBf_wp_O = algo_coord_cromaticas_RGB(imgRGBi_wp_O)\n",
    "\n",
    "imgRGBf_wp_R = algo_coord_cromaticas_RGB(imgRGBi_wp_R)"
   ]
  },
  {
   "cell_type": "code",
   "execution_count": 13,
   "metadata": {},
   "outputs": [],
   "source": [
    "#Ploteado de imagenes\n",
    "fig_i = plt.figure()\n",
    "ax1 = plt.subplot(231)\n",
    "ax1.imshow(imgRGBi_wp_B)\n",
    "\n",
    "ax2 = plt.subplot(232)\n",
    "ax2.imshow(imgRGBi_wp_O)\n",
    "\n",
    "ax3 = plt.subplot(233)\n",
    "ax3.imshow(imgRGBi_wp_R)\n",
    "\n",
    "ax4 = plt.subplot(234)\n",
    "ax4.imshow(imgRGBf_wp_B)\n",
    "\n",
    "ax5 = plt.subplot(235)\n",
    "ax5.imshow(imgRGBf_wp_O)\n",
    "\n",
    "ax6 = plt.subplot(236)\n",
    "ax6.imshow(imgRGBf_wp_R)\n",
    "\n",
    "plt.show()"
   ]
  },
  {
   "cell_type": "code",
   "execution_count": null,
   "metadata": {},
   "outputs": [],
   "source": []
  }
 ],
 "metadata": {
  "kernelspec": {
   "display_name": "Python 3",
   "language": "python",
   "name": "python3"
  },
  "language_info": {
   "codemirror_mode": {
    "name": "ipython",
    "version": 3
   },
   "file_extension": ".py",
   "mimetype": "text/x-python",
   "name": "python",
   "nbconvert_exporter": "python",
   "pygments_lexer": "ipython3",
   "version": "3.7.6"
  }
 },
 "nbformat": 4,
 "nbformat_minor": 4
}
