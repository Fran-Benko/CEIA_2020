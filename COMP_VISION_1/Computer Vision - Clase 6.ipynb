{
 "cells": [
  {
   "cell_type": "code",
   "execution_count": 2,
   "metadata": {},
   "outputs": [
    {
     "name": "stdout",
     "output_type": "stream",
     "text": [
      "Using matplotlib backend: MacOSX\n"
     ]
    }
   ],
   "source": [
    "import cv2 as cv\n",
    "\n",
    "import matplotlib.pyplot as plt\n",
    "import numpy as np\n",
    "\n",
    "%matplotlib"
   ]
  },
  {
   "cell_type": "code",
   "execution_count": 14,
   "metadata": {},
   "outputs": [],
   "source": [
    "cap = cv.VideoCapture(0)"
   ]
  },
  {
   "cell_type": "code",
   "execution_count": 15,
   "metadata": {},
   "outputs": [],
   "source": [
    "_, image = cap.read()\n",
    "\n",
    "#Seleccionando interactivamente los parametros de la ROI\n",
    "(x, y, w, h) = cv.selectROI('Traking', image, False)\n",
    "\n",
    "# Obteniendo la ROI\n",
    "roi = image[y:y+h , x:x+w]\n",
    "\n",
    "\n",
    "# Mostrar el recorte\n",
    "cv.imshow(\"Region de interes\", roi)\n",
    "cv.waitKey(0)\n",
    "cv.destroyAllWindows()"
   ]
  },
  {
   "cell_type": "code",
   "execution_count": 16,
   "metadata": {},
   "outputs": [
    {
     "data": {
      "text/plain": [
       "<matplotlib.image.AxesImage at 0x7fa3c3e53610>"
      ]
     },
     "execution_count": 16,
     "metadata": {},
     "output_type": "execute_result"
    }
   ],
   "source": [
    "# Pasamos la ROI a HSV (los valores de H son más estables a cambios de intensidad)\n",
    "hsv_roi =  cv.cvtColor(roi, cv.COLOR_BGR2HSV)\n",
    "# Definimos una máscara para el histograma (Hue: 0..180, Saturation:60..255, Value:32..255)\n",
    "mask = cv.inRange(hsv_roi, np.array((0., 60.,32.)), np.array((180.,255.,255.)))\n",
    "# Y calculamos el histograma sobre esa máscara (toma solo el Hue: tonalidad)\n",
    "roi_hist = cv.calcHist([hsv_roi],[0],mask,[180],[0,180])\n",
    "# Normalizamos el histograma (entre 0 y 255 según indica el flag cv.NORM_MINMAX)\n",
    "cv.normalize(roi_hist,roi_hist,0,255,cv.NORM_MINMAX)\n",
    "\n",
    "# Mostramos lo que se fue armando en relación a la ROI\n",
    "#-----------------------------------------------------\n",
    "plt.figure()\n",
    "plt.imshow(mask)\n",
    "\n",
    "# Muestro la imagen como para ver dónde definimos la ROI\n",
    "#-------------------------------------------------------\n",
    "plt.figure()\n",
    "plt.imshow(image)"
   ]
  },
  {
   "cell_type": "markdown",
   "metadata": {},
   "source": [
    "## No me fue muy bien con esto"
   ]
  },
  {
   "cell_type": "code",
   "execution_count": null,
   "metadata": {},
   "outputs": [],
   "source": []
  },
  {
   "cell_type": "code",
   "execution_count": 17,
   "metadata": {},
   "outputs": [],
   "source": [
    "term_crit = ( cv.TERM_CRITERIA_COUNT | cv.TERM_CRITERIA_EPS, 10, 1 )\n",
    "\n",
    "while(1):\n",
    "    timer = cv.getTickCount()\n",
    "    \n",
    "    ret, frame = cap.read()\n",
    "    \n",
    "    if ret == True:\n",
    "    \n",
    "        hsv = cv.cvtColor(frame, cv.COLOR_BGR2HSV)\n",
    "    \n",
    "        dst = cv.calcBackProject([hsv],[0],roi_hist,[0,180],1)\n",
    "    \n",
    "        ret, track_window = cv.meanShift(dst, (x, y, w, h), term_crit)\n",
    "    \n",
    "    \n",
    "    \n",
    "        x,y,w,h = track_window\n",
    "    \n",
    "        img2 = cv.rectangle(frame, (x,y), (x+w,y+h), 255,2)\n",
    "        cv.imshow('Seguimiento',img2)\n",
    "\n",
    "        k = cv.waitKey(60) & 0xff\n",
    "        if k == 27:\n",
    "            break\n",
    "        else:\n",
    "            cv.imwrite(chr(k)+\".jpg\",img2)\n",
    "    else:\n",
    "        break\n",
    "    \n",
    "    \n",
    "cv.destroyAllWindows()\n",
    "cap.release()"
   ]
  },
  {
   "cell_type": "markdown",
   "metadata": {},
   "source": [
    "## Probando algunos otros trackers"
   ]
  },
  {
   "cell_type": "markdown",
   "metadata": {},
   "source": [
    "[Link a la pagina donde encontre este snip](https://www.learnopencv.com/object-tracking-using-opencv-cpp-python/)"
   ]
  },
  {
   "cell_type": "code",
   "execution_count": 5,
   "metadata": {},
   "outputs": [],
   "source": [
    "(major_ver, minor_ver, subminor_ver) = (cv.__version__).split('.')"
   ]
  },
  {
   "cell_type": "code",
   "execution_count": 8,
   "metadata": {},
   "outputs": [],
   "source": [
    "tracker_types = ['BOOSTING', 'MIL','KCF', 'TLD', 'MEDIANFLOW', 'GOTURN', 'MOSSE', 'CSRT']\n",
    "tracker_type = tracker_types[0]\n",
    "\n",
    "if int(minor_ver) < 3:\n",
    "    tracker = cv.Tracker_create(tracker_type)\n",
    "else:\n",
    "    if tracker_type == 'BOOSTING':\n",
    "        tracker = cv.TrackerBoosting_create()\n",
    "    if tracker_type == 'MIL':\n",
    "        tracker = cv.TrackerMIL_create()\n",
    "    if tracker_type == 'KCF':\n",
    "        tracker = cv.TrackerKCF_create()\n",
    "    if tracker_type == 'TLD':\n",
    "        tracker = cv.TrackerTLD_create()\n",
    "    if tracker_type == 'MEDIANFLOW':\n",
    "        tracker = cv.TrackerMedianFlow_create()\n",
    "    if tracker_type == 'GOTURN':\n",
    "        tracker = cv.TrackerGOTURN_create()\n",
    "    if tracker_type == 'MOSSE':\n",
    "        tracker = cv.TrackerMOSSE_create()\n",
    "    if tracker_type == \"CSRT\":\n",
    "        tracker = cv.TrackerCSRT_create()\n",
    "\n",
    "# Read video\n",
    "video = cv.VideoCapture(0)\n",
    "\n",
    "\n",
    "# Read first frame.\n",
    "ok, frame = video.read()\n",
    "\n",
    "\n",
    "# Uncomment the line below to select a different bounding box\n",
    "bbox = cv.selectROI(frame, False)\n",
    "\n",
    "# Initialize tracker with first frame and bounding box\n",
    "ok = tracker.init(frame, bbox)\n",
    "\n",
    "while(1):\n",
    "    # Read a new frame\n",
    "    ok, frame = video.read()\n",
    "    if not ok:\n",
    "        break\n",
    "\n",
    "    # Start timer\n",
    "    timer = cv.getTickCount()\n",
    "\n",
    "    # Update tracker\n",
    "    ok, bbox = tracker.update(frame)\n",
    "\n",
    "    # Calculate Frames per second (FPS)\n",
    "    fps = cv.getTickFrequency() / (cv.getTickCount() - timer);\n",
    "\n",
    "    # Draw bounding box\n",
    "    if ok:\n",
    "        # Tracking success\n",
    "        p1 = (int(bbox[0]), int(bbox[1]))\n",
    "        p2 = (int(bbox[0] + bbox[2]), int(bbox[1] + bbox[3]))\n",
    "        cv.rectangle(frame, p1, p2, (255,0,0), 2, 1)\n",
    "    else :\n",
    "        # Tracking failure\n",
    "        cv.putText(frame, \"Tracking failure detected\", (100,80), cv.FONT_HERSHEY_SIMPLEX, 0.75,(0,0,255),2)\n",
    "\n",
    "    # Display tracker type on frame\n",
    "    cv.putText(frame, tracker_type + \" Tracker\", (100,20), cv.FONT_HERSHEY_SIMPLEX, 0.75, (50,170,50),2);\n",
    "\n",
    "    # Display FPS on frame\n",
    "    cv.putText(frame, \"FPS : \" + str(int(fps)), (100,50), cv.FONT_HERSHEY_SIMPLEX, 0.75, (50,170,50), 2);\n",
    "\n",
    "    # Display result\n",
    "    cv.imshow(\"Tracking\", frame)\n",
    "\n",
    "    # Exit if ESC pressed\n",
    "    k = cv.waitKey(1) & 0xff\n",
    "    if k == 27 : break\n",
    "\n",
    "cv.destroyAllWindows()\n",
    "video.release()"
   ]
  },
  {
   "cell_type": "code",
   "execution_count": null,
   "metadata": {},
   "outputs": [],
   "source": []
  }
 ],
 "metadata": {
  "kernelspec": {
   "display_name": "Python 3",
   "language": "python",
   "name": "python3"
  },
  "language_info": {
   "codemirror_mode": {
    "name": "ipython",
    "version": 3
   },
   "file_extension": ".py",
   "mimetype": "text/x-python",
   "name": "python",
   "nbconvert_exporter": "python",
   "pygments_lexer": "ipython3",
   "version": "3.7.6"
  }
 },
 "nbformat": 4,
 "nbformat_minor": 4
}
