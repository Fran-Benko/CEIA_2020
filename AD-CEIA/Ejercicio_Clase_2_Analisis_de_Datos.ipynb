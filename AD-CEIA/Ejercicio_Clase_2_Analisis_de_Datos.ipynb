{
  "nbformat": 4,
  "nbformat_minor": 0,
  "metadata": {
    "colab": {
      "name": "Ejercicio - Clase 2 Analisis de Datos.ipynb",
      "provenance": []
    },
    "kernelspec": {
      "name": "python3",
      "display_name": "Python 3"
    },
    "language_info": {
      "name": "python"
    }
  },
  "cells": [
    {
      "cell_type": "code",
      "metadata": {
        "id": "m9msf2CMdzeg"
      },
      "source": [
        "from scipy.stats import norm, expon, skew, kurtosis, iqr, describe\n",
        "import seaborn as sns"
      ],
      "execution_count": null,
      "outputs": []
    },
    {
      "cell_type": "markdown",
      "metadata": {
        "id": "CTcmupZtMlKN"
      },
      "source": [
        "# Ejercicio 1"
      ]
    },
    {
      "cell_type": "code",
      "metadata": {
        "colab": {
          "base_uri": "https://localhost:8080/",
          "height": 339
        },
        "id": "3hTyUd5qMQ7Z",
        "outputId": "413d4551-7e57-4f12-a936-a7bf65c4e8d0"
      },
      "source": [
        "# Defino la cantidad de tiradas\n",
        "N = 100\n",
        "# Defino la normal y realizo las simulaciones\n",
        "normal_vals = norm(loc=0, scale=1).rvs(N)\n",
        "\n",
        "# Calculo las mediciones que pide el ejercicio\n",
        "ej1_normal_skew = skew(normal_vals)\n",
        "ej1_normal_kurt = kurtosis(normal_vals)\n",
        "ej1_normal_iqr = iqr(normal_vals)\n",
        "\n",
        "# Outputs\n",
        "print(f'La desviacion que hay en la muestra obtenida es {ej1_normal_skew}')\n",
        "print(f'La oblicuidad que hay en la muestra obtenida es {ej1_normal_kurt}')\n",
        "print(f'El IQR que observado en la muestra obtenida es de {ej1_normal_iqr}')\n",
        "\n",
        "\n",
        "#Grafico\n",
        "sns.boxplot(x=normal_vals)\n",
        "\n"
      ],
      "execution_count": null,
      "outputs": [
        {
          "output_type": "stream",
          "text": [
            "La desviacion que hay en la muestra obtenida es -0.869747321129399\n",
            "La oblicuidad que hay en la muestra obtenida es 0.853056098324553\n",
            "El IQR que observado en la muestra obtenida es de 1.4146366867086035\n"
          ],
          "name": "stdout"
        },
        {
          "output_type": "execute_result",
          "data": {
            "text/plain": [
              "<matplotlib.axes._subplots.AxesSubplot at 0x7fb903d1a190>"
            ]
          },
          "metadata": {
            "tags": []
          },
          "execution_count": 2
        },
        {
          "output_type": "display_data",
          "data": {
            "image/png": "[encoded data removed]",
            "text/plain": [
              "<Figure size 432x288 with 1 Axes>"
            ]
          },
          "metadata": {
            "tags": [],
            "needs_background": "light"
          }
        }
      ]
    },
    {
      "cell_type": "markdown",
      "metadata": {
        "id": "jQLUc17GVCcf"
      },
      "source": [
        "# Ejercicio 2"
      ]
    },
    {
      "cell_type": "code",
      "metadata": {
        "colab": {
          "base_uri": "https://localhost:8080/",
          "height": 377
        },
        "id": "FmCEAEHWMzX_",
        "outputId": "fd00702f-6f65-4634-d1b7-c1979e9cc4fc"
      },
      "source": [
        "# Defino la cantidad de tiradas\n",
        "N = 100\n",
        "# Defino la expon y realizo las simulaciones\n",
        "expon_vals = expon(1).rvs(N)\n",
        "\n",
        "# Calculo las mediciones que pide el ejercicio\n",
        "ej2_expon_skew = skew(expon_vals)\n",
        "ej2_expon_kurt = kurtosis(expon_vals)\n",
        "ej2_expon_iqr = iqr(expon_vals)\n",
        "ej2_expon_describe = describe(expon_vals)\n",
        "\n",
        "# Outputs\n",
        "print(f'La desviacion que hay en la muestra obtenida es {ej2_expon_skew}')\n",
        "print(f'La oblicuidad que hay en la muestra obtenida es {ej2_expon_kurt}')\n",
        "print(f'El IQR que observado en la muestra obtenida es de {ej2_expon_iqr}')\n",
        "print(f'El desvio estandar de la muestra obtenida es de {(ej2_expon_describe.variance)**(1/2)}')\n",
        "print(f'La estimacion del desvio estandar en la muestra obtenida es de {(max(expon_vals)-min(expon_vals)/4)}')\n",
        "\n",
        "\n",
        "#Grafico\n",
        "sns.boxplot(x=expon_vals)"
      ],
      "execution_count": null,
      "outputs": [
        {
          "output_type": "stream",
          "text": [
            "La desviacion que hay en la muestra obtenida es 1.4296441014622263\n",
            "La oblicuidad que hay en la muestra obtenida es 1.6612455850912795\n",
            "El IQR que observado en la muestra obtenida es de 1.0012546218929026\n",
            "El desvio estandar de la muestra obtenida es de 0.9355020544859348\n",
            "La estimacion del desvio estandar en la muestra obtenida es de 5.006038718566259\n"
          ],
          "name": "stdout"
        },
        {
          "output_type": "execute_result",
          "data": {
            "text/plain": [
              "<matplotlib.axes._subplots.AxesSubplot at 0x7fb8ff96a5d0>"
            ]
          },
          "metadata": {
            "tags": []
          },
          "execution_count": 15
        },
        {
          "output_type": "display_data",
          "data": {
            "image/png": "[encoded data removed]",
            "text/plain": [
              "<Figure size 432x288 with 1 Axes>"
            ]
          },
          "metadata": {
            "tags": [],
            "needs_background": "light"
          }
        }
      ]
    },
    {
      "cell_type": "markdown",
      "metadata": {
        "id": "VyFyguJXkG69"
      },
      "source": [
        "# Ejercicio 3"
      ]
    },
    {
      "cell_type": "code",
      "metadata": {
        "id": "Cg3Nv4YOM0UQ"
      },
      "source": [
        "!pip install yfinance"
      ],
      "execution_count": null,
      "outputs": []
    },
    {
      "cell_type": "code",
      "metadata": {
        "id": "BKE_xfIFryFg"
      },
      "source": [
        "import yfinance as yf\n",
        "\n",
        "import matplotlib.pyplot as plt\n",
        "import seaborn as sns\n",
        "\n",
        "from scipy.stats import t\n",
        "\n",
        "import math \n",
        "import pandas as pd"
      ],
      "execution_count": null,
      "outputs": []
    },
    {
      "cell_type": "code",
      "metadata": {
        "id": "P-EmlGnaM0dW",
        "colab": {
          "base_uri": "https://localhost:8080/"
        },
        "outputId": "2476be75-7030-480f-d601-f8c4c37a53fb"
      },
      "source": [
        "amazon = yf.download('AMZN', start=\"2021-01-01\", end=\"2021-05-01\")"
      ],
      "execution_count": null,
      "outputs": [
        {
          "output_type": "stream",
          "text": [
            "\r[*********************100%***********************]  1 of 1 completed\n"
          ],
          "name": "stdout"
        }
      ]
    },
    {
      "cell_type": "code",
      "metadata": {
        "colab": {
          "base_uri": "https://localhost:8080/"
        },
        "id": "xJc2hu-3ZhRF",
        "outputId": "02266a14-e0e1-47ec-d1d2-13542c0872d1"
      },
      "source": [
        "#Ordeno los elementos\n",
        "amazon_close_sorted = sorted(amazon['Close'])\n",
        "\n",
        "# Saco el 2.5% de cada lado para recortar los outliers\n",
        "umb_recorte = math.floor(len(amazon_close_sorted)*0.025)\n",
        "\n",
        "amazon_recortado = amazon_close_sorted[0+umb_recorte: -umb_recorte]\n",
        "\n",
        "amazon_close_recor = amazon['Close'].loc[(amazon_recortado[0] < amazon['Close']) & (amazon['Close'] < amazon_recortado[-1])]\n",
        "\n",
        "# Calculo el Rango y estimo la desviacion Standard\n",
        "rango = amazon_recortado[-1] - amazon_recortado[0]\n",
        "\n",
        "s = rango/4\n",
        "\n",
        "\n",
        "# Calculo la media recortada\n",
        "mean_amazon_recor = amazon_close_recor.mean()\n",
        "\n",
        "\n",
        "print(f'El n muestral recortado quedo de: {len(amazon_recortado)}')\n",
        "print(f'El rango muestral es: {rango}')\n",
        "print(f'La media recortada quedo de: {mean_amazon_recor}')\n",
        "\n"
      ],
      "execution_count": null,
      "outputs": [
        {
          "output_type": "stream",
          "text": [
            "El n muestral recortado quedo de: 78\n",
            "El rango muestral es: 458.0400390625\n",
            "La media recortada quedo de: 3216.4886667351975\n"
          ],
          "name": "stdout"
        }
      ]
    },
    {
      "cell_type": "code",
      "metadata": {
        "colab": {
          "base_uri": "https://localhost:8080/"
        },
        "id": "Q2vPOwIfg2yv",
        "outputId": "e6d5875e-37e1-43b8-877d-330bbb69b911"
      },
      "source": [
        "# Calculo los Quartiles y el IQR\n",
        "Q1 = amazon_recortado[math.floor(len(amazon_close_sorted)*0.25)]\n",
        "Q2 = amazon_recortado[math.floor(len(amazon_close_sorted)*0.5)]\n",
        "Q3 = amazon_recortado[math.floor(len(amazon_close_sorted)*0.75)]\n",
        "\n",
        "IQR = Q3 - Q1\n",
        "\n",
        "print(f'1º Quartil: {Q1}')\n",
        "print(f'2º Quartil: {Q2}')\n",
        "print(f'3º Quartil: {Q3}')\n",
        "print(f'IQR: {IQR}')\n"
      ],
      "execution_count": null,
      "outputs": [
        {
          "output_type": "stream",
          "text": [
            "1º Quartil: 3113.590087890625\n",
            "2º Quartil: 3232.580078125\n",
            "3º Quartil: 3331.0\n",
            "IQR: 217.409912109375\n"
          ],
          "name": "stdout"
        }
      ]
    },
    {
      "cell_type": "code",
      "metadata": {
        "id": "MP5u8OuIrvCg",
        "colab": {
          "base_uri": "https://localhost:8080/"
        },
        "outputId": "d5d4f1be-c0a9-42ad-9656-650725852b54"
      },
      "source": [
        "#Defino el valor de compra [Precio promedio actual de los de los ultimos 30 dias]\n",
        "media_de_compra = amazon['Close'].rolling(30).mean()[-1]\n",
        "\n",
        "#Defino el valor de venta minimo [Precio promedio actual de los de los ultimos 30 dias]\n",
        "media_de_venta_2porciento = amazon['Close'].rolling(30).mean()[-1] * 1.02\n",
        "\n",
        "#Calculo estadistico t para el alfa=0.05 y los grados de libertad\n",
        "t_0 = t.ppf(0.95, len(amazon_recortado)-1)\n",
        "\n",
        "# Calculo el valor minimo para aceptar la hipotesis nula [Despeje de la funcion de t]\n",
        "valor_minimo_h0 = media_de_venta_2porciento - t_0*s/(len(amazon_recortado))**0.5\n",
        "\n",
        "\n",
        "print(f'La media recortada quedo de: {mean_amazon_recor}')\n",
        "print(f'La media minima que validaria la hipotesis nula es de: {valor_minimo_h0}')\n",
        "print('\\n')\n",
        "print('Por lo tanto no conviene comprar ya que no hay evidencia para asegurar con un 95% de confianza que se va a ganar un 2%')\n"
      ],
      "execution_count": null,
      "outputs": [
        {
          "output_type": "stream",
          "text": [
            "La media recortada quedo de: 3216.4886667351975\n",
            "La media minima que validaria la hipotesis nula es de: 3314.8148958661745\n",
            "\n",
            "\n",
            "Por lo tanto no conviene comprar ya que no hay evidencia para asegurar con un 95% de confianza que se va a ganar un 2%\n"
          ],
          "name": "stdout"
        }
      ]
    },
    {
      "cell_type": "code",
      "metadata": {
        "colab": {
          "base_uri": "https://localhost:8080/"
        },
        "id": "_M1cl-Pw0rlQ",
        "outputId": "367afb08-2e60-41ea-a4f9-a7eb9897bf52"
      },
      "source": [
        "mean_amazon_recor > valor_minimo_h0"
      ],
      "execution_count": null,
      "outputs": [
        {
          "output_type": "execute_result",
          "data": {
            "text/plain": [
              "False"
            ]
          },
          "metadata": {
            "tags": []
          },
          "execution_count": 49
        }
      ]
    },
    {
      "cell_type": "code",
      "metadata": {
        "colab": {
          "base_uri": "https://localhost:8080/",
          "height": 441
        },
        "id": "YDwUXKXsxgiB",
        "outputId": "7309c7ef-74fc-48ec-cc53-4f6c4bd74310"
      },
      "source": [
        "fig, ax = plt.subplots(2,2, figsize=(12,6), sharex=True)\n",
        "sns.histplot(data=amazon['Close'], ax=ax[0,0])\n",
        "sns.boxplot(data=amazon['Close'], orient='h', ax=ax[1,0])\n",
        "\n",
        "sns.histplot(data=amazon_close_recor, ax=ax[0,1])\n",
        "sns.boxplot(data=amazon_close_recor, orient='h', ax=ax[1,1])\n",
        "\n",
        "plt.tight_layout()"
      ],
      "execution_count": null,
      "outputs": [
        {
          "output_type": "display_data",
          "data": {
            "image/png": "[encoded data removed]",
            "text/plain": [
              "<Figure size 864x432 with 4 Axes>"
            ]
          },
          "metadata": {
            "tags": [],
            "needs_background": "light"
          }
        }
      ]
    },
    {
      "cell_type": "code",
      "metadata": {
        "colab": {
          "base_uri": "https://localhost:8080/",
          "height": 441
        },
        "id": "s1YlqWTSpy1J",
        "outputId": "aefc77e4-dfc2-468b-df5f-8550be368833"
      },
      "source": [
        "fig, ax = plt.subplots(2,1, figsize=(12,6), sharex=True)\n",
        "sns.scatterplot(x=amazon['Close'].index, y=amazon['Close'].values, ax=ax[0])\n",
        "sns.lineplot(x=amazon['Close'].index, y=amazon['Close'].rolling(30).mean().values, ax=ax[0])\n",
        "sns.lineplot(x=amazon['Close'].index, y=amazon['Close'].rolling(30).std() / amazon['Close'].rolling(30).mean() * 100, ax=ax[1])\n",
        "plt.tight_layout()"
      ],
      "execution_count": null,
      "outputs": [
        {
          "output_type": "display_data",
          "data": {
            "image/png": "[encoded data removed]",
            "text/plain": [
              "<Figure size 864x432 with 2 Axes>"
            ]
          },
          "metadata": {
            "tags": [],
            "needs_background": "light"
          }
        }
      ]
    },
    {
      "cell_type": "markdown",
      "metadata": {
        "id": "iMvGyFqHpNcx"
      },
      "source": [
        "# Clase 3 - Ejercicio 1"
      ]
    },
    {
      "cell_type": "markdown",
      "metadata": {
        "id": "SsOtaBQdpkjD"
      },
      "source": [
        "Agarrar las acciones de Apple y Microsoft en los ultimos 6 meses para verificar si se comportan de una manera distinta en cuanto a su precio medio de cierre ( como costumbre alpha = 0.05)"
      ]
    },
    {
      "cell_type": "code",
      "metadata": {
        "id": "HSI2h7ujpj87"
      },
      "source": [
        ""
      ],
      "execution_count": null,
      "outputs": []
    },
    {
      "cell_type": "code",
      "metadata": {
        "id": "-HpUYNZDpi-H"
      },
      "source": [
        ""
      ],
      "execution_count": null,
      "outputs": []
    }
  ]
}