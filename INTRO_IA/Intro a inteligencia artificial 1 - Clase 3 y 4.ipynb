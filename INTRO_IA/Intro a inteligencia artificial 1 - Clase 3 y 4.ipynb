{
 "cells": [
  {
   "cell_type": "code",
   "execution_count": 2,
   "metadata": {},
   "outputs": [],
   "source": [
    "import pandas as pd\n",
    "import numpy as np"
   ]
  },
  {
   "cell_type": "code",
   "execution_count": 157,
   "metadata": {},
   "outputs": [],
   "source": [
    "path = '/Users/francobenko/Documents/DataSets/Implementacion RegLin/income.data.csv'"
   ]
  },
  {
   "cell_type": "code",
   "execution_count": 158,
   "metadata": {},
   "outputs": [],
   "source": [
    "class Data(object):\n",
    "\n",
    "    def __init__(self, path):\n",
    "        self.dataset = self._build_dataset(path)\n",
    "\n",
    "    def split(self, percentage):\n",
    "        train_data = np.random.permutation(self.dataset)[:int(self.dataset.shape[0]*percentage),:self.dataset.shape[1]]\n",
    "        test_data = np.random.permutation(self.dataset[~(np.isin(self.dataset,train_data).sum(axis=1)==3),:])[:int(self.dataset.shape[0]*(1-percentage)),:self.dataset.shape[1]]\n",
    "        return train_data, test_data\n",
    "\n",
    "\n",
    "    def _build_dataset(self, path):\n",
    "        data = np.genfromtxt(path, dtype=None, names=True, delimiter=',', encoding=None)\n",
    "        return data.reshape(data.shape[0],1)"
   ]
  },
  {
   "cell_type": "code",
   "execution_count": 159,
   "metadata": {},
   "outputs": [],
   "source": [
    "data = Data(path)"
   ]
  },
  {
   "cell_type": "code",
   "execution_count": 160,
   "metadata": {},
   "outputs": [
    {
     "data": {
      "text/plain": [
       "(498, 1)"
      ]
     },
     "execution_count": 160,
     "metadata": {},
     "output_type": "execute_result"
    }
   ],
   "source": [
    "data.dataset.shape"
   ]
  },
  {
   "cell_type": "code",
   "execution_count": 161,
   "metadata": {},
   "outputs": [
    {
     "data": {
      "text/plain": [
       "array([[('\"1\"', 3.86264742, 2.31448898)],\n",
       "       [('\"2\"', 4.97938138, 3.43348976)],\n",
       "       [('\"3\"', 4.92395694, 4.5993734 )],\n",
       "       [('\"4\"', 3.21437244, 2.7911138 )],\n",
       "       [('\"5\"', 7.19640925, 5.59639827)]],\n",
       "      dtype=[('f0', '<U5'), ('income', '<f8'), ('happiness', '<f8')])"
      ]
     },
     "execution_count": 161,
     "metadata": {},
     "output_type": "execute_result"
    }
   ],
   "source": [
    "data.dataset[:5]"
   ]
  },
  {
   "cell_type": "code",
   "execution_count": 162,
   "metadata": {},
   "outputs": [],
   "source": [
    "train_data, test_data = data.split(0.8)"
   ]
  },
  {
   "cell_type": "code",
   "execution_count": 9,
   "metadata": {},
   "outputs": [
    {
     "data": {
      "text/plain": [
       "(398, 1)"
      ]
     },
     "execution_count": 9,
     "metadata": {},
     "output_type": "execute_result"
    }
   ],
   "source": [
    "train_data.shape"
   ]
  },
  {
   "cell_type": "code",
   "execution_count": 10,
   "metadata": {},
   "outputs": [
    {
     "data": {
      "text/plain": [
       "(99, 1)"
      ]
     },
     "execution_count": 10,
     "metadata": {},
     "output_type": "execute_result"
    }
   ],
   "source": [
    "test_data.shape"
   ]
  },
  {
   "cell_type": "code",
   "execution_count": 226,
   "metadata": {},
   "outputs": [],
   "source": [
    "class BaseModel(object):\n",
    "\n",
    "    def __init__(self):\n",
    "        self.model = None\n",
    "\n",
    "    def fit(self, X, Y):\n",
    "        constante = np.mean(Y)\n",
    "        self.model = constante\n",
    "\n",
    "\n",
    "    def predict(self, X):\n",
    "        y_hat = self.model\n",
    "        return y_hat\n",
    "\n",
    "\n",
    "class LinearRegression(BaseModel):\n",
    "\n",
    "    def fit(self, X, Y):\n",
    "        W = np.matmul(np.linalg.inv(np.matmul(X.T,X)),np.matmul(X.T,Y))\n",
    "        self.model = W\n",
    "        print('Calculo W = {}'.format(W))\n",
    "\n",
    "    def predict(self, X):\n",
    "        y_hat = self.model.T*X\n",
    "        return y_hat\n",
    "\n",
    "class LinearRegressionB(BaseModel):\n",
    "\n",
    "    def fit(self, X, Y):\n",
    "        X_ = np.ones((X.shape[0],X.shape[1]+1))\n",
    "        X_[:,:-1] = X\n",
    "        W = np.matmul(np.linalg.inv(np.matmul(X_.T,X_)),np.matmul(X_.T,Y))\n",
    "        self.model = W\n",
    "        print('Calculo W= {}'.format(W))\n",
    "\n",
    "    def predict(self, X):\n",
    "        y_hat = self.model[0]*X+self.model[1]\n",
    "        return y_hat\n",
    "    \n",
    "    \n",
    "class PolinomialRegression(BaseModel):\n",
    "    \n",
    "    def __init__(self):\n",
    "        self.n = 1\n",
    "    \n",
    "    def fit(self, n, X, Y):\n",
    "        \n",
    "        self.n = n\n",
    "        \n",
    "        X_ = np.ones((X.shape[0],X.shape[1]*self.n+1))\n",
    "\n",
    "        ini = 1\n",
    "\n",
    "        for i in range(1,self.n+1):\n",
    "            fin = X.shape[1]*i+1\n",
    "            X_[:,ini:fin] = X**i\n",
    "            ini = fin\n",
    "           \n",
    "        W = np.matmul(np.linalg.inv(np.matmul(X_.T,X_)),np.matmul(X_.T,Y))\n",
    "        self.model = W\n",
    "        print('Calculo W= {}'.format(W))\n",
    "\n",
    "    def predict(self, X):\n",
    "        \n",
    "        X_ = np.ones((X.shape[0],X.shape[1]*self.n+1))\n",
    "\n",
    "        ini = 1\n",
    "\n",
    "        for i in range(1,self.n+1):\n",
    "            fin = X.shape[1]*i+1\n",
    "            X_[:,ini:fin] = X**i\n",
    "            ini = fin\n",
    "            \n",
    "        y_hat = np.sum(X_.T*self.model, axis=0)\n",
    "        return y_hat\n",
    "    "
   ]
  },
  {
   "cell_type": "markdown",
   "metadata": {},
   "source": [
    "**Linear Regression**"
   ]
  },
  {
   "cell_type": "code",
   "execution_count": 42,
   "metadata": {},
   "outputs": [],
   "source": [
    "lr = LinearRegression()"
   ]
  },
  {
   "cell_type": "code",
   "execution_count": 43,
   "metadata": {},
   "outputs": [
    {
     "name": "stdout",
     "output_type": "stream",
     "text": [
      "Calculo W = [[0.75392606]]\n"
     ]
    }
   ],
   "source": [
    "lr.fit(train_data['income'],train_data['happiness'])"
   ]
  },
  {
   "cell_type": "code",
   "execution_count": 44,
   "metadata": {},
   "outputs": [],
   "source": [
    "y_hat = lr.predict(test_data['income'])"
   ]
  },
  {
   "cell_type": "markdown",
   "metadata": {},
   "source": [
    "**Linear regression with b**"
   ]
  },
  {
   "cell_type": "code",
   "execution_count": 45,
   "metadata": {},
   "outputs": [],
   "source": [
    "lrb = LinearRegressionB()"
   ]
  },
  {
   "cell_type": "code",
   "execution_count": 46,
   "metadata": {},
   "outputs": [
    {
     "name": "stdout",
     "output_type": "stream",
     "text": [
      "Calculo W= [[0.73630464]\n",
      " [0.09109385]]\n"
     ]
    }
   ],
   "source": [
    "lrb.fit(train_data['income'],train_data['happiness'])"
   ]
  },
  {
   "cell_type": "code",
   "execution_count": 47,
   "metadata": {},
   "outputs": [],
   "source": [
    "yb_hat = lrb.predict(test_data['income'])"
   ]
  },
  {
   "cell_type": "markdown",
   "metadata": {},
   "source": [
    "**Error**"
   ]
  },
  {
   "cell_type": "code",
   "execution_count": 48,
   "metadata": {},
   "outputs": [],
   "source": [
    "class Metric(object):\n",
    "    \n",
    "    def MSE(self, Y, y_hat):\n",
    "        mean_sq_err = np.mean(np.sqrt((Y-y_hat)**2))\n",
    "        return mean_sq_err\n",
    "    "
   ]
  },
  {
   "cell_type": "code",
   "execution_count": 49,
   "metadata": {},
   "outputs": [],
   "source": [
    "metric = Metric()"
   ]
  },
  {
   "cell_type": "code",
   "execution_count": 50,
   "metadata": {},
   "outputs": [
    {
     "data": {
      "text/plain": [
       "0.5830609460244032"
      ]
     },
     "execution_count": 50,
     "metadata": {},
     "output_type": "execute_result"
    }
   ],
   "source": [
    "lr_mse = metric.MSE(test_data['happiness'], y_hat)\n",
    "lr_mse"
   ]
  },
  {
   "cell_type": "code",
   "execution_count": 51,
   "metadata": {},
   "outputs": [
    {
     "data": {
      "text/plain": [
       "0.5850218619602469"
      ]
     },
     "execution_count": 51,
     "metadata": {},
     "output_type": "execute_result"
    }
   ],
   "source": [
    "lrb_mse = metric.MSE(test_data['happiness'], yb_hat)\n",
    "lrb_mse"
   ]
  },
  {
   "cell_type": "markdown",
   "metadata": {},
   "source": [
    "**Plots**"
   ]
  },
  {
   "cell_type": "code",
   "execution_count": 52,
   "metadata": {},
   "outputs": [
    {
     "data": {
      "text/plain": [
       "<matplotlib.legend.Legend at 0x7ff4535561d0>"
      ]
     },
     "execution_count": 52,
     "metadata": {},
     "output_type": "execute_result"
    },
    {
     "data": {
      "image/png": "[encoded data removed]",
      "text/plain": [
       "<Figure size 720x432 with 1 Axes>"
      ]
     },
     "metadata": {
      "needs_background": "light"
     },
     "output_type": "display_data"
    }
   ],
   "source": [
    "import matplotlib.pyplot as plt\n",
    "%matplotlib inline\n",
    "\n",
    "fig = plt.figure(figsize=(10,6))\n",
    "\n",
    "plt.scatter(train_data['income'],train_data['happiness'])\n",
    "plt.plot(test_data['income'], y_hat, color='r', label='LinearRegression MSE = {}'.format(lr_mse))\n",
    "plt.plot(test_data['income'], yb_hat, color='r', label='LinearRegression Intercept MSE = {}'.format(lrb_mse))\n",
    "\n",
    "plt.legend()"
   ]
  },
  {
   "cell_type": "markdown",
   "metadata": {},
   "source": [
    "**Shift Data**"
   ]
  },
  {
   "cell_type": "code",
   "execution_count": 163,
   "metadata": {},
   "outputs": [],
   "source": [
    "data.dataset['income'] = data.dataset['income'] + np.ones(data.dataset[['income','happiness']].shape)*5\n",
    "data.dataset['happiness'] = data.dataset['happiness'] + np.ones(data.dataset[['income','happiness']].shape)*5\n"
   ]
  },
  {
   "cell_type": "code",
   "execution_count": 164,
   "metadata": {},
   "outputs": [],
   "source": [
    "train_data, test_data = data.split(0.8)\n"
   ]
  },
  {
   "cell_type": "code",
   "execution_count": 165,
   "metadata": {},
   "outputs": [
    {
     "name": "stdout",
     "output_type": "stream",
     "text": [
      "Calculo W = [[0.87471015]]\n"
     ]
    }
   ],
   "source": [
    "lr.fit(train_data['income'],train_data['happiness'])\n"
   ]
  },
  {
   "cell_type": "code",
   "execution_count": 166,
   "metadata": {},
   "outputs": [],
   "source": [
    "y_hat = lr.predict(test_data['income'])\n"
   ]
  },
  {
   "cell_type": "code",
   "execution_count": 167,
   "metadata": {},
   "outputs": [
    {
     "name": "stdout",
     "output_type": "stream",
     "text": [
      "Calculo W= [[0.71738881]\n",
      " [1.55178733]]\n"
     ]
    }
   ],
   "source": [
    "lrb.fit(train_data['income'],train_data['happiness'])\n"
   ]
  },
  {
   "cell_type": "code",
   "execution_count": 168,
   "metadata": {},
   "outputs": [],
   "source": [
    "yb_hat = lrb.predict(test_data['income'])\n"
   ]
  },
  {
   "cell_type": "code",
   "execution_count": 169,
   "metadata": {},
   "outputs": [
    {
     "data": {
      "text/plain": [
       "0.6207611990959151"
      ]
     },
     "execution_count": 169,
     "metadata": {},
     "output_type": "execute_result"
    }
   ],
   "source": [
    "lr_mse = metric.MSE(test_data['happiness'], y_hat)\n",
    "lr_mse\n"
   ]
  },
  {
   "cell_type": "code",
   "execution_count": 170,
   "metadata": {},
   "outputs": [
    {
     "data": {
      "text/plain": [
       "0.5985926184622689"
      ]
     },
     "execution_count": 170,
     "metadata": {},
     "output_type": "execute_result"
    }
   ],
   "source": [
    "lrb_mse = metric.MSE(test_data['happiness'], yb_hat)\n",
    "lrb_mse\n"
   ]
  },
  {
   "cell_type": "code",
   "execution_count": 171,
   "metadata": {},
   "outputs": [
    {
     "data": {
      "text/plain": [
       "<matplotlib.legend.Legend at 0x7ff456295d50>"
      ]
     },
     "execution_count": 171,
     "metadata": {},
     "output_type": "execute_result"
    },
    {
     "data": {
      "image/png": "[encoded data removed]",
      "text/plain": [
       "<Figure size 720x432 with 1 Axes>"
      ]
     },
     "metadata": {
      "needs_background": "light"
     },
     "output_type": "display_data"
    }
   ],
   "source": [
    "import matplotlib.pyplot as plt\n",
    "%matplotlib inline\n",
    "\n",
    "fig = plt.figure(figsize=(10,6))\n",
    "\n",
    "plt.scatter(train_data['income'],train_data['happiness'])\n",
    "plt.plot(test_data['income'], y_hat, color='r', label='LinearRegression MSE = {}'.format(lr_mse))\n",
    "plt.plot(test_data['income'], yb_hat, color='r', label='LinearRegression Intercept MSE = {}'.format(lrb_mse))\n",
    "\n",
    "plt.legend()"
   ]
  },
  {
   "cell_type": "markdown",
   "metadata": {},
   "source": [
    "**Experimento con data random**"
   ]
  },
  {
   "cell_type": "code",
   "execution_count": 278,
   "metadata": {},
   "outputs": [
    {
     "data": {
      "text/plain": [
       "<matplotlib.collections.PathCollection at 0x7ff458d4a850>"
      ]
     },
     "execution_count": 278,
     "metadata": {},
     "output_type": "execute_result"
    },
    {
     "data": {
      "image/png": "[encoded data removed]",
      "text/plain": [
       "<Figure size 720x432 with 1 Axes>"
      ]
     },
     "metadata": {
      "needs_background": "light"
     },
     "output_type": "display_data"
    }
   ],
   "source": [
    "ones = np.ones((1000,1))\n",
    "\n",
    "X = np.ones((3000,1))\n",
    "X[0:1000,:] = np.array(range(0,1000)).reshape(1000,1)\n",
    "X[1000:2000,:] = np.array(range(0,1000)).reshape(1000,1)\n",
    "X[2000:3000,:] = np.array(range(0,1000)).reshape(1000,1)\n",
    "\n",
    "Y = np.ones((3000,1))\n",
    "Y[0:1000,:] = X[0:1000,:]**4\n",
    "Y[1000:2000,:] = (X[0:1000,:]-np.random.normal(0,1,(1000,1))*10)**4\n",
    "Y[2000:3000,:] = (X[0:1000,:]+np.random.normal(0,1,(1000,1))*25)**4\n",
    "\n",
    "\n",
    "\n",
    "\n",
    "fig = plt.figure(figsize=(10,6))\n",
    "plt.scatter(X,Y)\n",
    "#plt.plot(prue[800:1000,0:1], (prue[800:1000,1:2])**2, color='r', label='true val')\n",
    "#plt.plot(prue[800:1000,0:1], y_lcb_hat, color='g', label='cuadratic')\n"
   ]
  },
  {
   "cell_type": "markdown",
   "metadata": {},
   "source": [
    "**Split**"
   ]
  },
  {
   "cell_type": "code",
   "execution_count": 279,
   "metadata": {},
   "outputs": [],
   "source": [
    "rand_mask_train = np.random.permutation(np.array(range(0,3000)))[:2400]\n",
    "\n",
    "rand_mask_test = ~(np.isin(A,rand_mask))\n"
   ]
  },
  {
   "cell_type": "code",
   "execution_count": 280,
   "metadata": {},
   "outputs": [],
   "source": [
    "X_train = X[rand_mask_train]\n",
    "Y_train = Y[rand_mask_train]\n",
    "\n",
    "X_test = X[rand_mask_test]\n",
    "Y_test = Y[rand_mask_test]\n"
   ]
  },
  {
   "cell_type": "code",
   "execution_count": 281,
   "metadata": {},
   "outputs": [
    {
     "data": {
      "text/plain": [
       "<matplotlib.collections.PathCollection at 0x7ff45bbc44d0>"
      ]
     },
     "execution_count": 281,
     "metadata": {},
     "output_type": "execute_result"
    },
    {
     "data": {
      "image/png": "[encoded data removed]",
      "text/plain": [
       "<Figure size 720x432 with 1 Axes>"
      ]
     },
     "metadata": {
      "needs_background": "light"
     },
     "output_type": "display_data"
    }
   ],
   "source": [
    "fig = plt.figure(figsize=(10,6))\n",
    "plt.scatter(X_train,Y_train)\n"
   ]
  },
  {
   "cell_type": "code",
   "execution_count": 282,
   "metadata": {},
   "outputs": [
    {
     "name": "stdout",
     "output_type": "stream",
     "text": [
      "Calculo W= [[ 1.70606393e+06]\n",
      " [-9.08077936e+08]\n",
      " [ 8.52269191e+10]]\n"
     ]
    }
   ],
   "source": [
    "lcb = LinearCuadraticRegressionB()\n",
    "lcb.fit(X_train,Y_train)\n"
   ]
  },
  {
   "cell_type": "code",
   "execution_count": 283,
   "metadata": {},
   "outputs": [],
   "source": [
    "y_lcb_hat = lcb.predict(X_test)\n"
   ]
  },
  {
   "cell_type": "code",
   "execution_count": 284,
   "metadata": {},
   "outputs": [
    {
     "data": {
      "text/plain": [
       "<matplotlib.collections.PathCollection at 0x7ff45bbae0d0>"
      ]
     },
     "execution_count": 284,
     "metadata": {},
     "output_type": "execute_result"
    },
    {
     "data": {
      "image/png": "[encoded data removed]",
      "text/plain": [
       "<Figure size 720x432 with 1 Axes>"
      ]
     },
     "metadata": {
      "needs_background": "light"
     },
     "output_type": "display_data"
    }
   ],
   "source": [
    "fig = plt.figure(figsize=(10,6))\n",
    "#plt.scatter(X,Y)\n",
    "plt.scatter(X_test, Y_test, color='r', label='true val')\n",
    "plt.scatter(X_test, y_lcb_hat, color='g', label='cuadratic')\n"
   ]
  },
  {
   "cell_type": "code",
   "execution_count": 261,
   "metadata": {},
   "outputs": [
    {
     "data": {
      "text/plain": [
       "20516375.545067128"
      ]
     },
     "execution_count": 261,
     "metadata": {},
     "output_type": "execute_result"
    }
   ],
   "source": [
    "clrb_mse = metric.MSE(Y_test, y_lcb_hat)\n",
    "clrb_mse\n"
   ]
  },
  {
   "cell_type": "markdown",
   "metadata": {},
   "source": [
    "**Polynomial Regression**"
   ]
  },
  {
   "cell_type": "markdown",
   "metadata": {},
   "source": [
    "- Grado 2"
   ]
  },
  {
   "cell_type": "code",
   "execution_count": 289,
   "metadata": {},
   "outputs": [
    {
     "name": "stdout",
     "output_type": "stream",
     "text": [
      "Calculo W= [[ 8.52269191e+10]\n",
      " [-9.08077936e+08]\n",
      " [ 1.70606393e+06]]\n"
     ]
    }
   ],
   "source": [
    "poly2 = PolinomialRegression()\n",
    "poly2.fit(2,X_train,Y_train)\n"
   ]
  },
  {
   "cell_type": "code",
   "execution_count": 290,
   "metadata": {},
   "outputs": [],
   "source": [
    "y_poly2_hat = poly2.predict(X_test)"
   ]
  },
  {
   "cell_type": "code",
   "execution_count": 291,
   "metadata": {
    "scrolled": false
   },
   "outputs": [
    {
     "data": {
      "text/plain": [
       "<matplotlib.collections.PathCollection at 0x7ff43c42d6d0>"
      ]
     },
     "execution_count": 291,
     "metadata": {},
     "output_type": "execute_result"
    },
    {
     "data": {
      "image/png": "[encoded data removed]",
      "text/plain": [
       "<Figure size 720x432 with 1 Axes>"
      ]
     },
     "metadata": {
      "needs_background": "light"
     },
     "output_type": "display_data"
    }
   ],
   "source": [
    "fig = plt.figure(figsize=(10,6))\n",
    "#plt.scatter(X,Y)\n",
    "plt.scatter(X_test, Y_test, color='r', label='true val')\n",
    "plt.scatter(X_test, y_poly2_hat, color='g', label='PolynomialRegression')"
   ]
  },
  {
   "cell_type": "code",
   "execution_count": 292,
   "metadata": {},
   "outputs": [
    {
     "data": {
      "text/plain": [
       "276061052264.1399"
      ]
     },
     "execution_count": 292,
     "metadata": {},
     "output_type": "execute_result"
    }
   ],
   "source": [
    "y_poly2_train_hat = poly.predict(X_train)\n",
    "\n",
    "polyr2_mse_train = metric.MSE(Y_train, y_poly2_train_hat)\n",
    "polyr2_mse_train"
   ]
  },
  {
   "cell_type": "code",
   "execution_count": 293,
   "metadata": {},
   "outputs": [
    {
     "data": {
      "text/plain": [
       "271449844226.8667"
      ]
     },
     "execution_count": 293,
     "metadata": {},
     "output_type": "execute_result"
    }
   ],
   "source": [
    "polyr2_mse_test = metric.MSE(Y_test, y_poly2_hat)\n",
    "polyr2_mse_test"
   ]
  },
  {
   "cell_type": "markdown",
   "metadata": {},
   "source": [
    "- Grado 3"
   ]
  },
  {
   "cell_type": "code",
   "execution_count": 294,
   "metadata": {},
   "outputs": [
    {
     "name": "stdout",
     "output_type": "stream",
     "text": [
      "Calculo W= [[-1.29283015e+10]\n",
      " [ 2.66471532e+08]\n",
      " [-1.22817371e+06]\n",
      " [ 1.95654282e+03]]\n"
     ]
    }
   ],
   "source": [
    "poly3 = PolinomialRegression()\n",
    "poly3.fit(3,X_train,Y_train)"
   ]
  },
  {
   "cell_type": "code",
   "execution_count": 295,
   "metadata": {},
   "outputs": [],
   "source": [
    "y_poly3_hat = poly3.predict(X_test)"
   ]
  },
  {
   "cell_type": "code",
   "execution_count": 296,
   "metadata": {},
   "outputs": [
    {
     "data": {
      "text/plain": [
       "<matplotlib.collections.PathCollection at 0x7ff43c57d810>"
      ]
     },
     "execution_count": 296,
     "metadata": {},
     "output_type": "execute_result"
    },
    {
     "data": {
      "image/png": "[encoded data removed]",
      "text/plain": [
       "<Figure size 720x432 with 1 Axes>"
      ]
     },
     "metadata": {
      "needs_background": "light"
     },
     "output_type": "display_data"
    }
   ],
   "source": [
    "fig = plt.figure(figsize=(10,6))\n",
    "\n",
    "plt.scatter(X_test, Y_test, color='r', label='true val')\n",
    "plt.scatter(X_test, y_poly3_hat, color='g', label='PolynomialRegression')"
   ]
  },
  {
   "cell_type": "code",
   "execution_count": 297,
   "metadata": {},
   "outputs": [
    {
     "data": {
      "text/plain": [
       "268765772832.88672"
      ]
     },
     "execution_count": 297,
     "metadata": {},
     "output_type": "execute_result"
    }
   ],
   "source": [
    "y_poly3_train_hat = poly3.predict(X_train)\n",
    "\n",
    "polyr3_mse_train = metric.MSE(Y_train, y_poly3_train_hat)\n",
    "polyr3_mse_train"
   ]
  },
  {
   "cell_type": "code",
   "execution_count": 299,
   "metadata": {},
   "outputs": [
    {
     "data": {
      "text/plain": [
       "264273530917.03528"
      ]
     },
     "execution_count": 299,
     "metadata": {},
     "output_type": "execute_result"
    }
   ],
   "source": [
    "polyr3_mse_test = metric.MSE(Y_test, y_poly3_hat)\n",
    "polyr3_mse_test"
   ]
  },
  {
   "cell_type": "markdown",
   "metadata": {},
   "source": [
    "- Grado 4"
   ]
  },
  {
   "cell_type": "code",
   "execution_count": 300,
   "metadata": {},
   "outputs": [
    {
     "name": "stdout",
     "output_type": "stream",
     "text": [
      "Calculo W= [[-1.67802170e+09]\n",
      " [ 4.06420398e+07]\n",
      " [-2.12561704e+05]\n",
      " [ 3.77298768e+02]\n",
      " [ 7.89747070e-01]]\n"
     ]
    }
   ],
   "source": [
    "poly4 = PolinomialRegression()\n",
    "poly4.fit(4,X_train,Y_train)"
   ]
  },
  {
   "cell_type": "code",
   "execution_count": 301,
   "metadata": {},
   "outputs": [],
   "source": [
    "y_poly4_hat = poly4.predict(X_test)"
   ]
  },
  {
   "cell_type": "code",
   "execution_count": 302,
   "metadata": {},
   "outputs": [
    {
     "data": {
      "text/plain": [
       "<matplotlib.collections.PathCollection at 0x7ff43c6d6ad0>"
      ]
     },
     "execution_count": 302,
     "metadata": {},
     "output_type": "execute_result"
    },
    {
     "data": {
      "image/png": "[encoded data removed]",
      "text/plain": [
       "<Figure size 720x432 with 1 Axes>"
      ]
     },
     "metadata": {
      "needs_background": "light"
     },
     "output_type": "display_data"
    }
   ],
   "source": [
    "fig = plt.figure(figsize=(10,6))\n",
    "\n",
    "plt.scatter(X_test, Y_test, color='r', label='true val')\n",
    "plt.scatter(X_test, y_poly4_hat, color='g', label='PolynomialRegression')"
   ]
  },
  {
   "cell_type": "code",
   "execution_count": 303,
   "metadata": {},
   "outputs": [
    {
     "data": {
      "text/plain": [
       "268643984161.23187"
      ]
     },
     "execution_count": 303,
     "metadata": {},
     "output_type": "execute_result"
    }
   ],
   "source": [
    "y_poly4_train_hat = poly4.predict(X_train)\n",
    "\n",
    "polyr4_mse_train = metric.MSE(Y_train, y_poly4_train_hat)\n",
    "polyr4_mse_train"
   ]
  },
  {
   "cell_type": "code",
   "execution_count": 304,
   "metadata": {},
   "outputs": [
    {
     "data": {
      "text/plain": [
       "264143418986.53625"
      ]
     },
     "execution_count": 304,
     "metadata": {},
     "output_type": "execute_result"
    }
   ],
   "source": [
    "polyr4_mse_test = metric.MSE(Y_test, y_poly4_hat)\n",
    "polyr4_mse_test"
   ]
  },
  {
   "cell_type": "markdown",
   "metadata": {},
   "source": [
    "- Grado 5"
   ]
  },
  {
   "cell_type": "code",
   "execution_count": 305,
   "metadata": {},
   "outputs": [
    {
     "name": "stdout",
     "output_type": "stream",
     "text": [
      "Calculo W= [[ 1.88453474e+09]\n",
      " [-6.69757130e+07]\n",
      " [ 5.40672175e+05]\n",
      " [-1.63116524e+03]\n",
      " [ 3.04998625e+00]\n",
      " [-9.04699365e-04]]\n"
     ]
    }
   ],
   "source": [
    "poly5 = PolinomialRegression()\n",
    "poly5.fit(5,X_train,Y_train)"
   ]
  },
  {
   "cell_type": "code",
   "execution_count": 306,
   "metadata": {},
   "outputs": [],
   "source": [
    "y_poly5_hat = poly5.predict(X_test)"
   ]
  },
  {
   "cell_type": "code",
   "execution_count": 307,
   "metadata": {},
   "outputs": [
    {
     "data": {
      "text/plain": [
       "<matplotlib.collections.PathCollection at 0x7ff43c57d110>"
      ]
     },
     "execution_count": 307,
     "metadata": {},
     "output_type": "execute_result"
    },
    {
     "data": {
      "image/png": "[encoded data removed]",
      "text/plain": [
       "<Figure size 720x432 with 1 Axes>"
      ]
     },
     "metadata": {
      "needs_background": "light"
     },
     "output_type": "display_data"
    }
   ],
   "source": [
    "fig = plt.figure(figsize=(10,6))\n",
    "\n",
    "plt.scatter(X_test, Y_test, color='r', label='true val')\n",
    "plt.scatter(X_test, y_poly5_hat, color='g', label='PolynomialRegression')"
   ]
  },
  {
   "cell_type": "code",
   "execution_count": 308,
   "metadata": {},
   "outputs": [
    {
     "data": {
      "text/plain": [
       "268657657636.3315"
      ]
     },
     "execution_count": 308,
     "metadata": {},
     "output_type": "execute_result"
    }
   ],
   "source": [
    "y_poly5_train_hat = poly5.predict(X_train)\n",
    "\n",
    "polyr5_mse_train = metric.MSE(Y_train, y_poly5_train_hat)\n",
    "polyr5_mse_train"
   ]
  },
  {
   "cell_type": "code",
   "execution_count": 309,
   "metadata": {},
   "outputs": [
    {
     "data": {
      "text/plain": [
       "264165611266.00208"
      ]
     },
     "execution_count": 309,
     "metadata": {},
     "output_type": "execute_result"
    }
   ],
   "source": [
    "polyr5_mse_test = metric.MSE(Y_test, y_poly5_hat)\n",
    "polyr5_mse_test"
   ]
  },
  {
   "cell_type": "code",
   "execution_count": 312,
   "metadata": {},
   "outputs": [
    {
     "data": {
      "text/plain": [
       "<matplotlib.legend.Legend at 0x7ff442bfce90>"
      ]
     },
     "execution_count": 312,
     "metadata": {},
     "output_type": "execute_result"
    },
    {
     "data": {
      "image/png": "[encoded data removed]",
      "text/plain": [
       "<Figure size 720x432 with 1 Axes>"
      ]
     },
     "metadata": {
      "needs_background": "light"
     },
     "output_type": "display_data"
    }
   ],
   "source": [
    "fig = plt.figure(figsize=(10,6))\n",
    "\n",
    "plt.plot(range(2,6), [polyr2_mse_train,polyr3_mse_train,polyr4_mse_train,polyr5_mse_train], color='g',label='MSE Train')\n",
    "plt.plot(range(2,6), [polyr2_mse_test,polyr3_mse_test,polyr4_mse_test,polyr5_mse_test],color='r',label='MSE Test')\n",
    "\n",
    "plt.legend()"
   ]
  },
  {
   "cell_type": "code",
   "execution_count": null,
   "metadata": {},
   "outputs": [],
   "source": []
  }
 ],
 "metadata": {
  "kernelspec": {
   "display_name": "Python 3",
   "language": "python",
   "name": "python3"
  },
  "language_info": {
   "codemirror_mode": {
    "name": "ipython",
    "version": 3
   },
   "file_extension": ".py",
   "mimetype": "text/x-python",
   "name": "python",
   "nbconvert_exporter": "python",
   "pygments_lexer": "ipython3",
   "version": "3.7.6"
  }
 },
 "nbformat": 4,
 "nbformat_minor": 4
}
