{
 "cells": [
  {
   "cell_type": "code",
   "execution_count": 1,
   "metadata": {},
   "outputs": [],
   "source": [
    "import numpy as np "
   ]
  },
  {
   "cell_type": "markdown",
   "metadata": {},
   "source": [
    "# Ejercicio 1"
   ]
  },
  {
   "cell_type": "code",
   "execution_count": 2,
   "metadata": {},
   "outputs": [],
   "source": [
    "mat_1 = np.array([[1,2,-3],[1,3,4],[5,2,0]], dtype=np.int64)"
   ]
  },
  {
   "cell_type": "code",
   "execution_count": 3,
   "metadata": {},
   "outputs": [],
   "source": [
    "def l0 (mat):\n",
    "    mask = mat != 0\n",
    "    res = mask.sum()\n",
    "    return res"
   ]
  },
  {
   "cell_type": "code",
   "execution_count": 4,
   "metadata": {},
   "outputs": [
    {
     "data": {
      "text/plain": [
       "8"
      ]
     },
     "execution_count": 4,
     "metadata": {},
     "output_type": "execute_result"
    }
   ],
   "source": [
    "mat_1_l0 = l0(mat_1)\n",
    "mat_1_l0"
   ]
  },
  {
   "cell_type": "code",
   "execution_count": 5,
   "metadata": {},
   "outputs": [],
   "source": [
    "def l1(mat):\n",
    "    abs_values = np.absolute(mat)\n",
    "    res = np.sum(abs_values,axis=1)\n",
    "    return res"
   ]
  },
  {
   "cell_type": "code",
   "execution_count": 6,
   "metadata": {},
   "outputs": [
    {
     "data": {
      "text/plain": [
       "array([6, 8, 7])"
      ]
     },
     "execution_count": 6,
     "metadata": {},
     "output_type": "execute_result"
    }
   ],
   "source": [
    "mat_1_l1 = l1(mat_1)\n",
    "mat_1_l1"
   ]
  },
  {
   "cell_type": "code",
   "execution_count": 7,
   "metadata": {},
   "outputs": [],
   "source": [
    "def l2(mat):\n",
    "    abs_values_powered = np.power(2,np.absolute(mat))\n",
    "    squared_res = np.sqrt(np.sum(abs_values_powered, axis=1))\n",
    "    return squared_res"
   ]
  },
  {
   "cell_type": "code",
   "execution_count": 8,
   "metadata": {},
   "outputs": [
    {
     "data": {
      "text/plain": [
       "array([3.74165739, 5.09901951, 6.08276253])"
      ]
     },
     "execution_count": 8,
     "metadata": {},
     "output_type": "execute_result"
    }
   ],
   "source": [
    "mat_1_l2 = l2(mat_1)\n",
    "mat_1_l2"
   ]
  },
  {
   "cell_type": "code",
   "execution_count": 9,
   "metadata": {},
   "outputs": [],
   "source": [
    "def linf (mat):\n",
    "    abs_values = np.absolute(mat)\n",
    "    res = abs_values.max()\n",
    "    return res"
   ]
  },
  {
   "cell_type": "code",
   "execution_count": 10,
   "metadata": {},
   "outputs": [
    {
     "data": {
      "text/plain": [
       "5"
      ]
     },
     "execution_count": 10,
     "metadata": {},
     "output_type": "execute_result"
    }
   ],
   "source": [
    "mat_1_linf = linf(mat_1)\n",
    "mat_1_linf"
   ]
  },
  {
   "cell_type": "markdown",
   "metadata": {},
   "source": [
    "# Ejercicio 2"
   ]
  },
  {
   "cell_type": "code",
   "execution_count": 11,
   "metadata": {},
   "outputs": [],
   "source": [
    "mat_2 = np.array([[3,8,-3],[1,3,4],[5,2,0]], dtype=np.int64)"
   ]
  },
  {
   "cell_type": "code",
   "execution_count": 12,
   "metadata": {},
   "outputs": [
    {
     "data": {
      "text/plain": [
       "array([16.4924225 ,  5.09901951,  6.08276253])"
      ]
     },
     "execution_count": 12,
     "metadata": {},
     "output_type": "execute_result"
    }
   ],
   "source": [
    "mat_2_l2 = l2(mat_2)\n",
    "mat_2_l2"
   ]
  },
  {
   "cell_type": "code",
   "execution_count": 13,
   "metadata": {},
   "outputs": [
    {
     "data": {
      "text/plain": [
       "array([ 5.09901951,  6.08276253, 16.4924225 ])"
      ]
     },
     "execution_count": 13,
     "metadata": {},
     "output_type": "execute_result"
    }
   ],
   "source": [
    "#arg_sort devuelve los indices de los valores ordenados de menor (posicion 0) a mayor (posicion n)\n",
    "arg_sort_mat_2_l2 = np.argsort(mat_2_l2)\n",
    "mat_2_l2[arg_sort_mat_2_l2]"
   ]
  },
  {
   "cell_type": "markdown",
   "metadata": {},
   "source": [
    "# Ejercicio 3"
   ]
  },
  {
   "cell_type": "code",
   "execution_count": 14,
   "metadata": {},
   "outputs": [],
   "source": [
    "class List_Users(list):\n",
    "     \n",
    "    def get_id2idx(self):\n",
    "        ind_num = list(range(0,np.max(self)+1))\n",
    "        id2idx = [list(np.unique(self)).index(user) if ind_num[user] in self else -1 for user in ind_num]\n",
    "        return id2idx\n",
    "    \n",
    "    def get_idx2id(self):\n",
    "        return np.unique(self)\n",
    "    \n",
    "    def get_users_id (self):\n",
    "        return self\n",
    "    \n",
    "    def get_users_idx(self):\n",
    "        idx = np.array([list(np.unique(self)).index(user) for user in self])\n",
    "        return idx    \n",
    "    "
   ]
  },
  {
   "cell_type": "code",
   "execution_count": 15,
   "metadata": {},
   "outputs": [],
   "source": [
    "list1_obj = List_Users(np.array([0,1,2,3,5,6,8,5,8,6,4], dtype=np.int64))\n",
    "\n",
    "#list1_obj.get_id2idx()\n",
    "#list1_obj.get_idx2id()\n",
    "#list1_obj.get_users_id()\n",
    "#list1_obj.get_users_idx()"
   ]
  },
  {
   "cell_type": "code",
   "execution_count": 16,
   "metadata": {},
   "outputs": [],
   "source": [
    "class Indexer(object):\n",
    "    def __init__(self, ids):\n",
    "        unique_ids = np.unique(ids)\n",
    "        id2idx = np.ones(unique_ids.max() + 1, dtype=np.int64) * -1\n",
    "        id2idx[unique_ids] = np.arange(unique_ids.size)\n",
    "        self.id2idx = id2idx\n",
    "        self.idx2id = unique_ids\n",
    "        \n",
    "    def get_idxs(self, ids):\n",
    "        ids = self.id2idx[ids]\n",
    "        return ids, ids != -1\n",
    "    \n",
    "    def get_ids(self, idxs):\n",
    "        return self.idx2id[idxs]"
   ]
  },
  {
   "cell_type": "code",
   "execution_count": 17,
   "metadata": {},
   "outputs": [],
   "source": [
    "indexer_obj = Indexer(np.array([0,1,2,3,5,6,8,5,8,6,4], dtype=np.int64))"
   ]
  },
  {
   "cell_type": "code",
   "execution_count": 18,
   "metadata": {},
   "outputs": [
    {
     "data": {
      "text/plain": [
       "array([0, 1, 2, 3, 5, 6, 8, 5, 8, 6, 4])"
      ]
     },
     "execution_count": 18,
     "metadata": {},
     "output_type": "execute_result"
    }
   ],
   "source": [
    "indexer_obj.get_ids(np.array([0,1,2,3,5,6,7,5,7,6,4], dtype=np.int64))"
   ]
  },
  {
   "cell_type": "markdown",
   "metadata": {},
   "source": [
    "# Ejercicio 4"
   ]
  },
  {
   "cell_type": "code",
   "execution_count": 19,
   "metadata": {},
   "outputs": [
    {
     "name": "stdout",
     "output_type": "stream",
     "text": [
      "La precision es: 0.5\n",
      "La recall es 0.3333333333333333\n",
      "La accuracy es 0.3076923076923077\n"
     ]
    }
   ],
   "source": [
    "truth = np.array([1,1,0,1,1,1,0,0,0,1])\n",
    "prediction =  np.array([1,1,1,1,0,0,1,1,0,0])\n",
    "\n",
    "suma = truth+prediction\n",
    "resta = truth-prediction\n",
    "unos = np.ones(truth.size)\n",
    "\n",
    "TP = np.sum(unos[suma == 2])\n",
    "TN = np.sum(unos[suma == 0])\n",
    "FP = np.sum(unos[resta == -1])\n",
    "FN = np.sum(unos[suma == 1])\n",
    "\n",
    "\n",
    "precision = TP/(TP+FP)\n",
    "recall = TP/(TP+FN)\n",
    "accuracy = (TP+TN)/(TP+FP+TN+FN)\n",
    "\n",
    "print(\"La precision es: {}\".format(precision))\n",
    "print(\"La recall es {}\".format(recall))\n",
    "print(\"La accuracy es {}\".format(accuracy))"
   ]
  },
  {
   "cell_type": "code",
   "execution_count": 20,
   "metadata": {},
   "outputs": [],
   "source": [
    "class classification_metrics:\n",
    " \n",
    "    def __init__(self, truth, prediction):\n",
    "        self.suma = truth + prediction\n",
    "        self.resta = truth - prediction\n",
    "        self.TP = (suma == 2).sum()\n",
    "        self.TN = (suma == 0).sum()\n",
    "        self.FP = (resta == -1).sum()\n",
    "        self.FN = (suma == 1).sum()\n",
    "        \n",
    "    \n",
    "    def acc (self):\n",
    "        accuracy = (self.TP+self.TN)/(self.TP+self.FP+self.TN+self.FN)\n",
    "        return accuracy\n",
    "    \n",
    "    def precision (self):\n",
    "        precision = self.TP/(self.TP+self.FP)\n",
    "        return precision\n",
    "    \n",
    "    def recall (self):\n",
    "        recall = self.TP/(self.TP+self.FN)\n",
    "        return recall"
   ]
  },
  {
   "cell_type": "code",
   "execution_count": 21,
   "metadata": {},
   "outputs": [
    {
     "data": {
      "text/plain": [
       "0.3333333333333333"
      ]
     },
     "execution_count": 21,
     "metadata": {},
     "output_type": "execute_result"
    }
   ],
   "source": [
    "classification_metrics(truth, prediction).recall()"
   ]
  },
  {
   "cell_type": "markdown",
   "metadata": {},
   "source": [
    "# Ejercicio 5"
   ]
  },
  {
   "cell_type": "code",
   "execution_count": 23,
   "metadata": {},
   "outputs": [],
   "source": [
    "class avg_query_precision:\n",
    "    \n",
    "    def __call__(self, query_id, predicted_rank, truth_relevant):\n",
    "        q_id_1_mask = (query_id ==1)\n",
    "        prec_1 = truth_relevant[q_id_1_mask].sum()/truth_relevant[q_id_1_mask].size\n",
    "        q_id_2_mask = (query_id ==2)\n",
    "        prec_2 = truth_relevant[q_id_2_mask].sum()/truth_relevant[q_id_2_mask].size\n",
    "        q_id_3_mask = (query_id ==3)\n",
    "        prec_3 = truth_relevant[q_id_3_mask].sum()/truth_relevant[q_id_3_mask].size\n",
    "        q_id_4_mask = (query_id ==4)\n",
    "        prec_4 = truth_relevant[q_id_4_mask].sum()/truth_relevant[q_id_4_mask].size\n",
    "        return prec_1+prec_2+prec_3+prec_4\n",
    "        "
   ]
  },
  {
   "cell_type": "code",
   "execution_count": 24,
   "metadata": {},
   "outputs": [
    {
     "data": {
      "text/plain": [
       "0.5"
      ]
     },
     "execution_count": 24,
     "metadata": {},
     "output_type": "execute_result"
    }
   ],
   "source": [
    "q_id = np.array([1, 1, 1, 1, 2, 2, 2, 3, 3, 3, 3, 3, 4, 4, 4, 4])\n",
    "predicted_rank = np.array([0, 1, 2, 3, 0, 1, 2, 0, 1, 2, 3, 4, 0, 1, 2, 3])\n",
    "truth_relevance = np.array([True, False, True, False, True, True, True, False, False, False, False, False, True, False, False, True ])\n",
    "k = 3\n",
    "\n",
    "q_id_1_mask = (q_id ==1)\n",
    "prec_1 = truth_relevance[q_id_1_mask].sum()/truth_relevance[q_id_1_mask].size\n",
    "q_id_2_mask = (q_id ==2)\n",
    "prec_2 = truth_relevance[q_id_2_mask].sum()/truth_relevance[q_id_2_mask].size\n",
    "q_id_3_mask = (q_id ==3)\n",
    "prec_3 = truth_relevance[q_id_3_mask].sum()/truth_relevance[q_id_3_mask].size\n",
    "q_id_4_mask = (q_id ==4)\n",
    "prec_4 = truth_relevance[q_id_4_mask].sum()/truth_relevance[q_id_4_mask].size\n",
    "\n",
    "\n",
    "avg_q_prec = (prec_1+prec_2+prec_3+prec_4)/4\n",
    "avg_q_prec"
   ]
  },
  {
   "cell_type": "markdown",
   "metadata": {},
   "source": [
    "# Ejercicio 6"
   ]
  },
  {
   "cell_type": "code",
   "execution_count": 25,
   "metadata": {},
   "outputs": [],
   "source": [
    "class avg_query_precision:\n",
    "    \n",
    "    def __call__(self, query_id, predicted_rank, truth_relevant, k):\n",
    "        q_id_1_mask = (q_id ==1)\n",
    "        prec_1 = truth_relevance[q_id_1_mask][0:k].sum()/truth_relevance[q_id_1_mask][0:k].size\n",
    "        q_id_2_mask = (q_id ==2)\n",
    "        prec_2 = truth_relevance[q_id_2_mask][0:k].sum()/truth_relevance[q_id_2_mask][0:k].size\n",
    "        q_id_3_mask = (q_id ==3)\n",
    "        prec_3 = truth_relevance[q_id_3_mask][0:k].sum()/truth_relevance[q_id_3_mask][0:k].size\n",
    "        q_id_4_mask = (q_id ==4)\n",
    "        prec_4 = truth_relevance[q_id_4_mask][0:k].sum()/truth_relevance[q_id_4_mask][0:k].size\n",
    "        return (prec_1+prec_2+prec_3+prec_4)/4"
   ]
  },
  {
   "cell_type": "code",
   "execution_count": 26,
   "metadata": {},
   "outputs": [
    {
     "data": {
      "text/plain": [
       "0.49999999999999994"
      ]
     },
     "execution_count": 26,
     "metadata": {},
     "output_type": "execute_result"
    }
   ],
   "source": [
    "avg = avg_query_precision()\n",
    "avg(np.array([1, 1, 1, 1, 2, 2, 2, 3, 3, 3, 3, 3, 4, 4, 4, 4]), \n",
    "    np.array([0, 1, 2, 3, 0, 1, 2, 0, 1, 2, 3, 4, 0, 1, 2, 3]), \n",
    "    np.array([True, False, True, False, True, True, True, False, False, False, False, False, True, False, False, True ]),\n",
    "   3)"
   ]
  },
  {
   "cell_type": "code",
   "execution_count": 27,
   "metadata": {},
   "outputs": [
    {
     "data": {
      "text/plain": [
       "0.49999999999999994"
      ]
     },
     "execution_count": 27,
     "metadata": {},
     "output_type": "execute_result"
    }
   ],
   "source": [
    "q_id = np.array([1, 1, 1, 1, 2, 2, 2, 3, 3, 3, 3, 3, 4, 4, 4, 4])\n",
    "predicted_rank = np.array([0, 1, 2, 3, 0, 1, 2, 0, 1, 2, 3, 4, 0, 1, 2, 3])\n",
    "truth_relevance = np.array([True, False, True, False, True, True, True, False, False, False, False, False, True, False, False, True ])\n",
    "k = 3\n",
    "\n",
    "q_id_1_mask = (q_id ==1)\n",
    "prec_1 = truth_relevance[q_id_1_mask][0:k].sum()/truth_relevance[q_id_1_mask][0:k].size\n",
    "q_id_2_mask = (q_id ==2)\n",
    "prec_2 = truth_relevance[q_id_2_mask][0:k].sum()/truth_relevance[q_id_2_mask][0:k].size\n",
    "q_id_3_mask = (q_id ==3)\n",
    "prec_3 = truth_relevance[q_id_3_mask][0:k].sum()/truth_relevance[q_id_3_mask][0:k].size\n",
    "q_id_4_mask = (q_id ==4)\n",
    "prec_4 = truth_relevance[q_id_4_mask][0:k].sum()/truth_relevance[q_id_4_mask][0:k].size\n",
    "\n",
    "\n",
    "avg_q_prec = (prec_1+prec_2+prec_3+prec_4)/4\n",
    "avg_q_prec"
   ]
  },
  {
   "cell_type": "code",
   "execution_count": null,
   "metadata": {},
   "outputs": [],
   "source": []
  },
  {
   "cell_type": "markdown",
   "metadata": {},
   "source": [
    "# Ejercicio 8"
   ]
  },
  {
   "cell_type": "code",
   "execution_count": 86,
   "metadata": {},
   "outputs": [],
   "source": [
    "class structured_arrays:\n",
    "    def __call__(self, path):\n",
    "        data = np.genfromtxt(path, dtype='U60',delimiter=';')\n",
    "        structure = [('header', np.dtype('U60')), \n",
    "            ('row', np.dtype('U60'), (data.shape[0]-1,))]\n",
    "        structure = np.dtype(structure)\n",
    "        st_arr = np.empty(data.shape[1], dtype=structure)\n",
    "        st_arr['header'] = data[0,:]\n",
    "        st_arr['row'] = data[1:,:].T\n",
    "        return st_arr\n",
    "        "
   ]
  },
  {
   "cell_type": "code",
   "execution_count": 89,
   "metadata": {},
   "outputs": [
    {
     "data": {
      "text/plain": [
       "array([('\\ufeffcol_1', ['0.550149417', '0.350019969', '0.317120598', '0.865686808', '0.571398805', '0.194929997', '0.322266699', '0.703382034', '0.269670652', '0.536618609', '0.446635748', '0.05861478']),\n",
       "       ('col_2', ['rojo', 'azul', 'verde', 'rojo', 'verde', 'violeta', 'rojo', 'verde', 'azul', 'violeta', 'rojo', 'rojo']),\n",
       "       ('col_3', ['0.840236478', '0.813856354', '0.872336196', '0.414033291', '0.702426648', '0.58157983', '0.917508317', '0.010289638', '0.150438196', '0.019778364', '0.812730004', '0.53727344'])],\n",
       "      dtype=[('header', '<U60'), ('row', '<U60', (12,))])"
      ]
     },
     "execution_count": 89,
     "metadata": {},
     "output_type": "execute_result"
    }
   ],
   "source": [
    "path = '/Users/francobenko/Documents/DataSets/ejemplo.csv'\n",
    "\n",
    "sta = structured_arrays()\n",
    "st_array = sta(path)\n",
    "st_array"
   ]
  },
  {
   "cell_type": "code",
   "execution_count": null,
   "metadata": {},
   "outputs": [],
   "source": [
    "#Create a .pkl of the object\n",
    "import pickle\n",
    "\n",
    "with open('dataset.pkl', 'wb') as file:\n",
    "    pickle.dump(st_array,file,protocol=pickle.HIGHEST_PROTOCOL)"
   ]
  }
 ],
 "metadata": {
  "kernelspec": {
   "display_name": "Python 3",
   "language": "python",
   "name": "python3"
  },
  "language_info": {
   "codemirror_mode": {
    "name": "ipython",
    "version": 3
   },
   "file_extension": ".py",
   "mimetype": "text/x-python",
   "name": "python",
   "nbconvert_exporter": "python",
   "pygments_lexer": "ipython3",
   "version": "3.7.6"
  }
 },
 "nbformat": 4,
 "nbformat_minor": 4
}
