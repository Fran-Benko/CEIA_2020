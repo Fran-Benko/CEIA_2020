{
 "cells": [
  {
   "cell_type": "code",
   "execution_count": 1,
   "metadata": {},
   "outputs": [],
   "source": [
    "import numpy as np"
   ]
  },
  {
   "cell_type": "markdown",
   "metadata": {},
   "source": [
    "# Data Pre-process"
   ]
  },
  {
   "cell_type": "code",
   "execution_count": 2,
   "metadata": {},
   "outputs": [],
   "source": [
    "path = '/Users/francobenko/Documents/DataSets/clase_8_dataset.csv'"
   ]
  },
  {
   "cell_type": "code",
   "execution_count": 17,
   "metadata": {},
   "outputs": [],
   "source": [
    "class Data(object):\n",
    "\n",
    "    def __init__(self, path):\n",
    "        self.dataset = self._build_dataset(path)\n",
    "\n",
    "    def split(self, percentage):\n",
    "        train_data = np.random.permutation(self.dataset)[:int(self.dataset.shape[0]*percentage),:self.dataset.shape[1]]\n",
    "        test_data = np.random.permutation(self.dataset[~(np.isin(self.dataset,train_data).sum(axis=1)==3),:])[:int(self.dataset.shape[0]*(1-percentage)),:self.dataset.shape[1]]\n",
    "        return train_data, test_data\n",
    "\n",
    "\n",
    "    def _build_dataset(self, path):\n",
    "        data = np.genfromtxt(path, dtype=None, names=None, delimiter=', ', encoding=None)\n",
    "        return data.reshape(data.shape[0],data.shape[1])"
   ]
  },
  {
   "cell_type": "code",
   "execution_count": 18,
   "metadata": {},
   "outputs": [],
   "source": [
    "data = Data(path)"
   ]
  },
  {
   "cell_type": "code",
   "execution_count": 23,
   "metadata": {},
   "outputs": [
    {
     "data": {
      "text/plain": [
       "(500,)"
      ]
     },
     "execution_count": 23,
     "metadata": {},
     "output_type": "execute_result"
    }
   ],
   "source": [
    "data.dataset[:,0].shape"
   ]
  },
  {
   "cell_type": "code",
   "execution_count": 24,
   "metadata": {},
   "outputs": [
    {
     "data": {
      "text/plain": [
       "<matplotlib.axes._subplots.AxesSubplot at 0x7ffbb99bca10>"
      ]
     },
     "execution_count": 24,
     "metadata": {},
     "output_type": "execute_result"
    },
    {
     "data": {
      "image/png": "[encoded data removed]",
      "text/plain": [
       "<Figure size 432x288 with 1 Axes>"
      ]
     },
     "metadata": {
      "needs_background": "light"
     },
     "output_type": "display_data"
    }
   ],
   "source": [
    "import seaborn as sns\n",
    "\n",
    "sns.scatterplot(x=data.dataset[:,0], y=data.dataset[:,1])"
   ]
  },
  {
   "cell_type": "code",
   "execution_count": 25,
   "metadata": {},
   "outputs": [],
   "source": [
    "data_train, data_test = data.split(0.8)"
   ]
  },
  {
   "cell_type": "code",
   "execution_count": 28,
   "metadata": {},
   "outputs": [
    {
     "data": {
      "text/plain": [
       "(400, 2)"
      ]
     },
     "execution_count": 28,
     "metadata": {},
     "output_type": "execute_result"
    }
   ],
   "source": [
    "data_train.shape"
   ]
  },
  {
   "cell_type": "code",
   "execution_count": 29,
   "metadata": {},
   "outputs": [
    {
     "data": {
      "text/plain": [
       "(99, 2)"
      ]
     },
     "execution_count": 29,
     "metadata": {},
     "output_type": "execute_result"
    }
   ],
   "source": [
    "data_test.shape"
   ]
  },
  {
   "cell_type": "markdown",
   "metadata": {},
   "source": [
    "# Poly Reg"
   ]
  },
  {
   "cell_type": "code",
   "execution_count": 201,
   "metadata": {},
   "outputs": [],
   "source": [
    "class BaseModel(object):\n",
    "\n",
    "    def __init__(self):\n",
    "        self.model = None\n",
    "\n",
    "    def fit(self, X, Y):\n",
    "        constante = np.mean(Y)\n",
    "        self.model = constante\n",
    "\n",
    "\n",
    "    def predict(self, X):\n",
    "        y_hat = self.model\n",
    "        return y_hat\n",
    "    \n",
    "    \n",
    "class PolinomialRegression(BaseModel):\n",
    "    \n",
    "    def __init__(self):\n",
    "        self.n = 1\n",
    "    \n",
    "    def fit(self, n, X, Y):\n",
    "        \n",
    "        self.n = n\n",
    "        \n",
    "        X_ = np.ones((X.shape[0],X.shape[1]*self.n+1))\n",
    "\n",
    "        ini = 1\n",
    "\n",
    "        for i in range(1,self.n+1):\n",
    "            fin = X.shape[1]*i+1\n",
    "            X_[:,ini:fin] = X**i\n",
    "            ini = fin\n",
    "           \n",
    "        W = np.matmul(np.linalg.inv(np.matmul(X_.T,X_)),np.matmul(X_.T,Y))\n",
    "        self.model = W\n",
    "        print('Calculo W= {}'.format(W))\n",
    "\n",
    "    def predict(self, X):\n",
    "        \n",
    "        X_ = np.ones((X.shape[0],X.shape[1]*self.n+1))\n",
    "\n",
    "        ini = 1\n",
    "\n",
    "        for i in range(1,self.n+1):\n",
    "            fin = X.shape[1]*i+1\n",
    "            X_[:,ini:fin] = X**i\n",
    "            ini = fin\n",
    "            \n",
    "        y_hat = np.sum(self.model.T * X_, axis=1)\n",
    "        return y_hat"
   ]
  },
  {
   "cell_type": "code",
   "execution_count": 31,
   "metadata": {},
   "outputs": [],
   "source": [
    "class Metric(object):\n",
    "    \n",
    "    def MSE(self, Y, y_hat):\n",
    "        mean_sq_err = np.mean(np.sqrt((Y-y_hat)**2))\n",
    "        return mean_sq_err"
   ]
  },
  {
   "cell_type": "code",
   "execution_count": 217,
   "metadata": {},
   "outputs": [],
   "source": [
    "def k_folds(k, model_objet, model_degree, X, Y):\n",
    "    len_fold = X.shape[0]//k\n",
    "    X_folds = np.array([])\n",
    "    Y_folds = np.array([])\n",
    "    X_validation = np.array([])\n",
    "    Y_validation = np.array([])\n",
    "    metric = Metric()\n",
    "    models_folds = np.array([])\n",
    "    mse_folds = np.array([])\n",
    "    w_folds = np.array([])\n",
    "    model_count = np.array([])\n",
    "    \n",
    "    \n",
    "    for i in range(k):\n",
    "        X_folds = np.append(X_folds, X[len_fold*k*i:len_fold*k*(i+1),:])\n",
    "        Y_folds = np.append(Y_folds, Y[len_fold*k*i:len_fold*k*(i+1),:])\n",
    "    \n",
    "    \n",
    "    X_folds = X_folds.reshape(k,len_fold,X.shape[1])\n",
    "    Y_folds = Y_folds.reshape(k,len_fold,Y.shape[1])\n",
    "    #print(X_folds.shape)\n",
    "    pos = np.array(range(k))\n",
    "    \n",
    "    for i in range(k):\n",
    "        X_train = X_folds[0]\n",
    "        Y_train = Y_folds[0]\n",
    "        for j in range(1,k-2):\n",
    "            X_train = np.append(X_train,X_folds[j],axis=0)\n",
    "            Y_train = np.append(Y_train,Y_folds[j],axis=0)\n",
    "        X_test = X_folds[k-2:k-1][0]\n",
    "        Y_test = Y_folds[k-2:k-1][0]\n",
    "        \n",
    "        #X_validation = np.append(X_validation, X_folds[k-1:k][0])\n",
    "        #Y_validation = np.append(Y_validation, Y_folds[k-1:k][0])\n",
    "        \n",
    "        pos = np.append(-1,np.array(range(len(pos)))[:-1])\n",
    "        X_folds = X_folds[pos]\n",
    "        Y_folds = Y_folds[pos]\n",
    "        \n",
    "        print('Modelo CV: {}'.format(i+1))\n",
    "        model_count = np.append(model_count, i+1)\n",
    "        models_folds = np.append(models_folds, model_objet)\n",
    "        models_folds[i].fit(model_degree, X_train,Y_train)\n",
    "        #print('\\n')\n",
    "        w_folds = np.append(w_folds, model_objet.model)\n",
    "        mse_folds = np.append(mse_folds, metric.MSE(Y_test, model_objet.predict(X_test)))\n",
    "        \n",
    "    \n",
    "  \n",
    "    #mean_mse = np.mean(mse_folds)    \n",
    "    best_model_mask = np.argsort(mse_folds)\n",
    "    pos_w_best = int(model_count[best_model_mask][0])\n",
    "    len_w = len(model_objet.model)\n",
    "    \n",
    "    \n",
    "    # Esta asi porque no me dio el tiempo para pensar como generalizarlo\n",
    "    #model_objet.model = w_folds[2:4]\n",
    "    #model_objet.model = w_folds[9:12]\n",
    "    #model_objet.model = w_folds[12:16]\n",
    "    model_objet.model = w_folds[15:20]\n",
    "    model_objet.n = model_degree\n",
    "    print('El mejor modelo obtenido tuvo un MSE de {} y fue el modelo {}'.format(mse_folds[best_model_mask][0],pos_w_best))\n",
    "    #return(mean_mse)\n",
    "    #return X_validation[id_min_sort][0], Y_validation[id_min_sort][0], models_folds[id_min_sort][0]\n"
   ]
  },
  {
   "cell_type": "code",
   "execution_count": 205,
   "metadata": {},
   "outputs": [
    {
     "name": "stdout",
     "output_type": "stream",
     "text": [
      "Modelo CV: 1\n",
      "Calculo W= [[44.5110938 ]\n",
      " [-0.07177765]]\n",
      "Modelo CV: 2\n",
      "Calculo W= [[46.34745889]\n",
      " [-0.08070382]]\n",
      "Modelo CV: 3\n",
      "Calculo W= [[51.10253124]\n",
      " [-0.09046925]]\n",
      "Modelo CV: 4\n",
      "Calculo W= [[52.68894789]\n",
      " [-0.08640858]]\n",
      "Modelo CV: 5\n",
      "Calculo W= [[50.44654289]\n",
      " [-0.08177844]]\n",
      "El mejor modelo obtenido tuvo un MSE de 26.78957572708323 y fue el modelo 2\n"
     ]
    }
   ],
   "source": [
    "poly = PolinomialRegression()\n",
    "\n",
    "\n",
    "w_folds = k_folds(5, poly, 1, data_train[:,0].reshape(400,1), data_train[:,1].reshape(400,1))"
   ]
  },
  {
   "cell_type": "code",
   "execution_count": 206,
   "metadata": {},
   "outputs": [
    {
     "data": {
      "text/plain": [
       "array([46.34745889, -0.08070382])"
      ]
     },
     "execution_count": 206,
     "metadata": {},
     "output_type": "execute_result"
    }
   ],
   "source": [
    "poly.model"
   ]
  },
  {
   "cell_type": "code",
   "execution_count": 224,
   "metadata": {},
   "outputs": [],
   "source": [
    "y_hat_poly = poly.predict(data_test[:,0].reshape(99,1))"
   ]
  },
  {
   "cell_type": "code",
   "execution_count": 225,
   "metadata": {},
   "outputs": [
    {
     "data": {
      "text/plain": [
       "32.144072473290656"
      ]
     },
     "execution_count": 225,
     "metadata": {},
     "output_type": "execute_result"
    }
   ],
   "source": [
    "metric = Metric()\n",
    "\n",
    "mse_poly = metric.MSE(data_test[:,1].reshape(99,1),y_hat_poly)\n",
    "mse_poly"
   ]
  },
  {
   "cell_type": "code",
   "execution_count": 208,
   "metadata": {},
   "outputs": [
    {
     "name": "stdout",
     "output_type": "stream",
     "text": [
      "Modelo CV: 1\n",
      "Calculo W= [[ 1.75209937e+01]\n",
      " [-8.83885785e-02]\n",
      " [ 5.76414103e-04]]\n",
      "Modelo CV: 2\n",
      "Calculo W= [[ 1.73007885e+01]\n",
      " [-8.86402713e-02]\n",
      " [ 5.98232119e-04]]\n",
      "Modelo CV: 3\n",
      "Calculo W= [[ 1.68611952e+01]\n",
      " [-9.37173152e-02]\n",
      " [ 6.05826147e-04]]\n",
      "Modelo CV: 4\n",
      "Calculo W= [[ 1.72549959e+01]\n",
      " [-9.80945217e-02]\n",
      " [ 5.90221772e-04]]\n",
      "Modelo CV: 5\n",
      "Calculo W= [[ 1.67721440e+01]\n",
      " [-9.78057753e-02]\n",
      " [ 5.95908250e-04]]\n",
      "El mejor modelo obtenido tuvo un MSE de 31.713355818317453 y fue el modelo 4\n"
     ]
    }
   ],
   "source": [
    "poly2 = PolinomialRegression()\n",
    "\n",
    "\n",
    "w_folds = k_folds(5, poly2, 2, data_train[:,0].reshape(400,1), data_train[:,1].reshape(400,1))"
   ]
  },
  {
   "cell_type": "code",
   "execution_count": 209,
   "metadata": {},
   "outputs": [
    {
     "data": {
      "text/plain": [
       "array([ 1.72549959e+01, -9.80945217e-02,  5.90221772e-04])"
      ]
     },
     "execution_count": 209,
     "metadata": {},
     "output_type": "execute_result"
    }
   ],
   "source": [
    "poly2.model"
   ]
  },
  {
   "cell_type": "code",
   "execution_count": 210,
   "metadata": {},
   "outputs": [],
   "source": [
    "y_hat_poly2 = poly2.predict(data_test[:,0].reshape(99,1))"
   ]
  },
  {
   "cell_type": "code",
   "execution_count": 211,
   "metadata": {},
   "outputs": [
    {
     "data": {
      "text/plain": [
       "39.83514998138893"
      ]
     },
     "execution_count": 211,
     "metadata": {},
     "output_type": "execute_result"
    }
   ],
   "source": [
    "mse_poly2 = metric.MSE(data_test[:,1].reshape(99,1),y_hat_poly2)\n",
    "mse_poly2"
   ]
  },
  {
   "cell_type": "code",
   "execution_count": 213,
   "metadata": {},
   "outputs": [
    {
     "name": "stdout",
     "output_type": "stream",
     "text": [
      "Modelo CV: 1\n",
      "Calculo W= [[ 1.79976941e+01]\n",
      " [ 4.20786487e-03]\n",
      " [ 6.03373745e-04]\n",
      " [-1.04699863e-06]]\n",
      "Modelo CV: 2\n",
      "Calculo W= [[ 1.80081007e+01]\n",
      " [ 2.40033693e-03]\n",
      " [ 6.03908106e-04]\n",
      " [-1.02612087e-06]]\n",
      "Modelo CV: 3\n",
      "Calculo W= [[ 1.83763490e+01]\n",
      " [ 1.19480367e-03]\n",
      " [ 5.96669419e-04]\n",
      " [-1.01614558e-06]]\n",
      "Modelo CV: 4\n",
      "Calculo W= [[ 1.82192157e+01]\n",
      " [-8.25772909e-04]\n",
      " [ 5.98328167e-04]\n",
      " [-9.97196229e-07]]\n",
      "Modelo CV: 5\n",
      "Calculo W= [[ 1.78606303e+01]\n",
      " [ 1.17593246e-03]\n",
      " [ 6.03227107e-04]\n",
      " [-1.01377231e-06]]\n",
      "El mejor modelo obtenido tuvo un MSE de 29.270844711281516 y fue el modelo 4\n"
     ]
    }
   ],
   "source": [
    "poly3 = PolinomialRegression()\n",
    "\n",
    "\n",
    "w_folds = k_folds(5, poly3, 3, data_train[:,0].reshape(400,1), data_train[:,1].reshape(400,1))"
   ]
  },
  {
   "cell_type": "code",
   "execution_count": 214,
   "metadata": {},
   "outputs": [
    {
     "data": {
      "text/plain": [
       "array([ 1.82192157e+01, -8.25772909e-04,  5.98328167e-04, -9.97196229e-07])"
      ]
     },
     "execution_count": 214,
     "metadata": {},
     "output_type": "execute_result"
    }
   ],
   "source": [
    "poly3.model"
   ]
  },
  {
   "cell_type": "code",
   "execution_count": 215,
   "metadata": {},
   "outputs": [],
   "source": [
    "y_hat_poly3 = poly3.predict(data_test[:,0].reshape(99,1))"
   ]
  },
  {
   "cell_type": "code",
   "execution_count": 216,
   "metadata": {},
   "outputs": [
    {
     "data": {
      "text/plain": [
       "38.71022861490196"
      ]
     },
     "execution_count": 216,
     "metadata": {},
     "output_type": "execute_result"
    }
   ],
   "source": [
    "mse_poly3 = metric.MSE(data_test[:,1].reshape(99,1),y_hat_poly3)\n",
    "mse_poly3"
   ]
  },
  {
   "cell_type": "code",
   "execution_count": 218,
   "metadata": {},
   "outputs": [
    {
     "name": "stdout",
     "output_type": "stream",
     "text": [
      "Modelo CV: 1\n",
      "Calculo W= [[ 1.76909265e+01]\n",
      " [ 4.28047472e-03]\n",
      " [ 6.23846359e-04]\n",
      " [-1.04512444e-06]\n",
      " [-1.56542786e-10]]\n",
      "Modelo CV: 2\n",
      "Calculo W= [[ 1.76705408e+01]\n",
      " [ 2.64942883e-03]\n",
      " [ 6.26454824e-04]\n",
      " [-1.02764278e-06]\n",
      " [-1.75211922e-10]]\n",
      "Modelo CV: 3\n",
      "Calculo W= [[ 1.86206980e+01]\n",
      " [ 9.32281839e-04]\n",
      " [ 5.82525842e-04]\n",
      " [-1.01381391e-06]\n",
      " [ 1.04880513e-10]]\n",
      "Modelo CV: 4\n",
      "Calculo W= [[ 1.84461525e+01]\n",
      " [-9.44439155e-04]\n",
      " [ 5.85860024e-04]\n",
      " [-9.96810808e-07]\n",
      " [ 8.87946884e-11]]\n",
      "Modelo CV: 5\n",
      "Calculo W= [[ 1.77251801e+01]\n",
      " [ 1.20042735e-03]\n",
      " [ 6.11579613e-04]\n",
      " [-1.01357478e-06]\n",
      " [-6.09317928e-11]]\n",
      "El mejor modelo obtenido tuvo un MSE de 29.20918057572092 y fue el modelo 4\n"
     ]
    }
   ],
   "source": [
    "poly4 = PolinomialRegression()\n",
    "\n",
    "\n",
    "w_folds = k_folds(5, poly4, 4, data_train[:,0].reshape(400,1), data_train[:,1].reshape(400,1))"
   ]
  },
  {
   "cell_type": "code",
   "execution_count": 219,
   "metadata": {},
   "outputs": [
    {
     "data": {
      "text/plain": [
       "array([ 1.84461525e+01, -9.44439155e-04,  5.85860024e-04, -9.96810808e-07,\n",
       "        8.87946884e-11])"
      ]
     },
     "execution_count": 219,
     "metadata": {},
     "output_type": "execute_result"
    }
   ],
   "source": [
    "poly4.model"
   ]
  },
  {
   "cell_type": "code",
   "execution_count": 220,
   "metadata": {},
   "outputs": [],
   "source": [
    "y_hat_poly4 = poly4.predict(data_test[:,0].reshape(99,1))"
   ]
  },
  {
   "cell_type": "code",
   "execution_count": 221,
   "metadata": {},
   "outputs": [
    {
     "data": {
      "text/plain": [
       "38.69141709328436"
      ]
     },
     "execution_count": 221,
     "metadata": {},
     "output_type": "execute_result"
    }
   ],
   "source": [
    "mse_poly4 = metric.MSE(data_test[:,1].reshape(99,1),y_hat_poly4)\n",
    "mse_poly4"
   ]
  },
  {
   "cell_type": "markdown",
   "metadata": {},
   "source": [
    "# Conclusion"
   ]
  },
  {
   "cell_type": "code",
   "execution_count": 239,
   "metadata": {},
   "outputs": [],
   "source": [
    "mse_models = [mse_poly,mse_poly2,mse_poly3,mse_poly4]\n",
    "models = ['poly 1','poly 2','poly 3','poly 4']"
   ]
  },
  {
   "cell_type": "code",
   "execution_count": 240,
   "metadata": {},
   "outputs": [
    {
     "data": {
      "text/plain": [
       "[<matplotlib.lines.Line2D at 0x7ffbbdc0e0d0>]"
      ]
     },
     "execution_count": 240,
     "metadata": {},
     "output_type": "execute_result"
    },
    {
     "data": {
      "image/png": "[encoded data removed]",
      "text/plain": [
       "<Figure size 720x432 with 1 Axes>"
      ]
     },
     "metadata": {
      "needs_background": "light"
     },
     "output_type": "display_data"
    }
   ],
   "source": [
    "fig = plt.figure(figsize=(10,6))\n",
    "plt.plot(models,mse_models)"
   ]
  },
  {
   "cell_type": "markdown",
   "metadata": {},
   "source": [
    "Segun la metrica del `Mean Square Error el polinomio` que tiene menor diferencia punto a punto es el polinomio de `n=1`"
   ]
  },
  {
   "cell_type": "code",
   "execution_count": 236,
   "metadata": {},
   "outputs": [
    {
     "data": {
      "text/plain": [
       "[<matplotlib.lines.Line2D at 0x7ffbbba03550>]"
      ]
     },
     "execution_count": 236,
     "metadata": {},
     "output_type": "execute_result"
    },
    {
     "data": {
      "image/png": "[encoded data removed]",
      "text/plain": [
       "<Figure size 720x432 with 1 Axes>"
      ]
     },
     "metadata": {
      "needs_background": "light"
     },
     "output_type": "display_data"
    }
   ],
   "source": [
    "import matplotlib.pyplot as plt\n",
    "\n",
    "fig = plt.figure(figsize=(10,6))\n",
    "plt.scatter(data_train[:,0].reshape(400,1),data_train[:,1].reshape(400,1), label = 'Train')\n",
    "plt.scatter(data_test[:,0].reshape(99,1),data_test[:,1].reshape(99,1), label = 'Test')\n",
    "plt.plot(data_test[:,0].reshape(99,1),y_hat_poly)"
   ]
  },
  {
   "cell_type": "markdown",
   "metadata": {},
   "source": [
    "# Optimizacion por Mini-Batch"
   ]
  },
  {
   "cell_type": "code",
   "execution_count": 242,
   "metadata": {},
   "outputs": [],
   "source": [
    "data_train2, data_test2 = data.split(4/5)"
   ]
  },
  {
   "cell_type": "code",
   "execution_count": 323,
   "metadata": {},
   "outputs": [],
   "source": [
    "def MBatch_gradient_decent(x_train, y_train, lr=0.01, n_epochs=100, b=10):\n",
    "    \n",
    "    X_ = np.ones((x_train.shape[0],x_train.shape[1]+1))\n",
    "    X_[:,:-1] = x_train\n",
    "    \n",
    "    f = X_.shape[0]\n",
    "    c = X_.shape[1]\n",
    "    \n",
    "    \n",
    "    w = np.random.randn(c).reshape(c,1)\n",
    "    \n",
    "    for epoch in range(0,n_epochs):\n",
    "        idx = np.random.permutation(X_.shape[0])\n",
    "        x_train = X_[idx]\n",
    "        y_train = y_train[idx]\n",
    "        \n",
    "        batch_size = int(f/b)\n",
    "        \n",
    "        for n in range(0,f, batch_size):\n",
    "            end = n + batch_size if n + batch_size <= f else f\n",
    "            batch_x = X_[n:end]\n",
    "            batch_y = y_train[n:end]\n",
    "            \n",
    "            \n",
    "            pred = np.sum(w.T * batch_x, axis=1).reshape(batch_x.shape[0],1)\n",
    "            error = batch_y - pred\n",
    "            \n",
    "            grad_sum = np.sum(error * batch_x, axis = 0)\n",
    "            grad_mul =  -2/f * grad_sum\n",
    "            gradient = np.transpose(grad_mul).reshape(w.shape[0],1)\n",
    "            \n",
    "            \n",
    "            w = w - (lr * gradient)\n",
    "\n",
    "    return w"
   ]
  },
  {
   "cell_type": "code",
   "execution_count": 324,
   "metadata": {},
   "outputs": [
    {
     "name": "stderr",
     "output_type": "stream",
     "text": [
      "/Users/francobenko/anaconda3/lib/python3.7/site-packages/ipykernel_launcher.py:28: RuntimeWarning: overflow encountered in multiply\n",
      "/Users/francobenko/anaconda3/lib/python3.7/site-packages/ipykernel_launcher.py:33: RuntimeWarning: invalid value encountered in subtract\n"
     ]
    },
    {
     "data": {
      "text/plain": [
       "array([[nan],\n",
       "       [nan]])"
      ]
     },
     "execution_count": 324,
     "metadata": {},
     "output_type": "execute_result"
    }
   ],
   "source": [
    "MBatch_gradient_decent(data_train2[:,0].reshape(400,1),data_train2[:,1].reshape(400,1))"
   ]
  },
  {
   "cell_type": "code",
   "execution_count": null,
   "metadata": {},
   "outputs": [],
   "source": []
  }
 ],
 "metadata": {
  "kernelspec": {
   "display_name": "Python 3",
   "language": "python",
   "name": "python3"
  },
  "language_info": {
   "codemirror_mode": {
    "name": "ipython",
    "version": 3
   },
   "file_extension": ".py",
   "mimetype": "text/x-python",
   "name": "python",
   "nbconvert_exporter": "python",
   "pygments_lexer": "ipython3",
   "version": "3.7.6"
  }
 },
 "nbformat": 4,
 "nbformat_minor": 4
}
