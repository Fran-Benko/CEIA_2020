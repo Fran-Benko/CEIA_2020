{
 "cells": [
  {
   "cell_type": "markdown",
   "metadata": {},
   "source": [
    "## Ejercicio 1"
   ]
  },
  {
   "cell_type": "markdown",
   "metadata": {},
   "source": [
    "Calcular la distancia entre elemetos de X a cada elemento C"
   ]
  },
  {
   "cell_type": "code",
   "execution_count": 4,
   "metadata": {},
   "outputs": [],
   "source": [
    "import numpy as np\n",
    "import seaborn as sns\n",
    "import matplotlib.pyplot as plt"
   ]
  },
  {
   "cell_type": "code",
   "execution_count": 3,
   "metadata": {},
   "outputs": [],
   "source": [
    "X = np.array([[1,2,3],[4,5,6],[7,8,9]])\n",
    "\n",
    "C = np.array([[1,0,0],[0,1,0]])"
   ]
  },
  {
   "cell_type": "code",
   "execution_count": 20,
   "metadata": {},
   "outputs": [],
   "source": [
    "\"\"\"\n",
    "Lo que hace esta linea de codigo es agrega una tercera dimension (como si fuera la profundidad) pasa de ser (2,3)\n",
    "a ser (2,1,3)\n",
    "\"\"\"\n",
    "C_expandida = C[:,None]"
   ]
  },
  {
   "cell_type": "code",
   "execution_count": 12,
   "metadata": {},
   "outputs": [
    {
     "data": {
      "text/plain": [
       "array([[ 3.60555128,  8.36660027, 13.45362405],\n",
       "       [ 3.31662479,  8.24621125, 13.37908816]])"
      ]
     },
     "execution_count": 12,
     "metadata": {},
     "output_type": "execute_result"
    }
   ],
   "source": [
    "dist = np.sqrt(np.sum((C_expandida-X)**2, axis=2))\n",
    "dist"
   ]
  },
  {
   "cell_type": "markdown",
   "metadata": {},
   "source": [
    "## Ejercicio 2"
   ]
  },
  {
   "cell_type": "markdown",
   "metadata": {},
   "source": [
    "Devolver la posicion del centro mas cercano segun cada vector"
   ]
  },
  {
   "cell_type": "code",
   "execution_count": 16,
   "metadata": {},
   "outputs": [
    {
     "data": {
      "text/plain": [
       "array([1, 1, 1])"
      ]
     },
     "execution_count": 16,
     "metadata": {},
     "output_type": "execute_result"
    }
   ],
   "source": [
    "min_dist = np.argmin(dist, axis=0)\n",
    "min_dist"
   ]
  },
  {
   "cell_type": "markdown",
   "metadata": {},
   "source": [
    "## Ejercicio 3"
   ]
  },
  {
   "cell_type": "markdown",
   "metadata": {},
   "source": [
    "Costo. Rehacer."
   ]
  },
  {
   "cell_type": "code",
   "execution_count": 58,
   "metadata": {},
   "outputs": [],
   "source": [
    "    \n",
    "def k_mean(X, n, MAX_ITERATIONS):\n",
    "    centroids = np.random.random_sample((n, X.shape[1]))+1\n",
    "    for ite in range(MAX_ITERATIONS):\n",
    "        print('Centroids:')\n",
    "        print(centroids)\n",
    "        print('Iteration # {}'.format(ite))\n",
    "        centroids, min_dist = k_calculation(X, centroids)\n",
    "    return centroids, min_dist\n",
    "\n",
    "def k_calculation(X, centroids):\n",
    "    centroids_expand = centroids[:,None]\n",
    "    distance = np.sqrt(np.sum((centroids_expand-X)**2, axis=2))\n",
    "    min_dist = np.argmin(distance, axis=0)\n",
    "    centroids = k_min_centroid_search(min_dist, X)\n",
    "    return centroids, min_dist\n",
    "\n",
    "def k_min_centroid_search(min_dist, X):\n",
    "    for i in range(centroids.shape[0]):\n",
    "        centroids[i]= np.mean(X[min_dist==i,:], axis=0)\n",
    "    return centroids"
   ]
  },
  {
   "cell_type": "code",
   "execution_count": 5,
   "metadata": {},
   "outputs": [
    {
     "data": {
      "text/plain": [
       "array([[-0.20075948, -0.44729614],\n",
       "       [ 0.71886331, -1.43164618],\n",
       "       [ 0.34697399, -0.62849253],\n",
       "       ...,\n",
       "       [-1.42811894,  1.30021256],\n",
       "       [ 1.75334739,  1.10424298],\n",
       "       [-0.58463059,  1.10164609]])"
      ]
     },
     "execution_count": 5,
     "metadata": {},
     "output_type": "execute_result"
    }
   ],
   "source": [
    "datos = np.random.normal(loc=0 , scale=1, size=(1000,2))"
   ]
  },
  {
   "cell_type": "code",
   "execution_count": 59,
   "metadata": {},
   "outputs": [
    {
     "name": "stdout",
     "output_type": "stream",
     "text": [
      "Centroids:\n",
      "[[1.06031202 1.98633877]\n",
      " [1.90693949 1.82701592]\n",
      " [1.29469431 1.83095678]]\n",
      "Iteration # 0\n",
      "Centroids:\n",
      "[[-0.68058467  0.45915399]\n",
      " [ 2.11329831  0.05864584]\n",
      " [ 0.47920282 -0.40566982]]\n",
      "Iteration # 1\n",
      "Centroids:\n",
      "[[-0.68043708  0.51253557]\n",
      " [ 1.73123147  0.41395178]\n",
      " [ 0.31772894 -0.56784221]]\n",
      "Iteration # 2\n",
      "Centroids:\n",
      "[[-0.68158591  0.59505125]\n",
      " [ 1.40338865  0.51437552]\n",
      " [ 0.13665901 -0.75406297]]\n",
      "Iteration # 3\n",
      "Centroids:\n",
      "[[-0.6912611   0.62288826]\n",
      " [ 1.21606694  0.51598096]\n",
      " [ 0.02088535 -0.86813598]]\n",
      "Iteration # 4\n",
      "Centroids:\n",
      "[[-0.68715984  0.66055526]\n",
      " [ 1.11438087  0.46395133]\n",
      " [-0.09167731 -0.93376057]]\n",
      "Iteration # 5\n",
      "Centroids:\n",
      "[[-0.67021537  0.67841893]\n",
      " [ 1.06925102  0.40486632]\n",
      " [-0.17151342 -0.98488453]]\n",
      "Iteration # 6\n",
      "Centroids:\n",
      "[[-0.65732098  0.69911451]\n",
      " [ 1.05058374  0.34885833]\n",
      " [-0.22277706 -1.00917574]]\n",
      "Iteration # 7\n",
      "Centroids:\n",
      "[[-0.64643861  0.72273582]\n",
      " [ 1.03562426  0.28854668]\n",
      " [-0.28455442 -1.02234407]]\n",
      "Iteration # 8\n",
      "Centroids:\n",
      "[[-0.63239157  0.73966773]\n",
      " [ 1.03327334  0.24539044]\n",
      " [-0.33925899 -1.02219893]]\n",
      "Iteration # 9\n"
     ]
    }
   ],
   "source": [
    "Centroids, labels = k_mean(datos,3,10)"
   ]
  },
  {
   "cell_type": "code",
   "execution_count": null,
   "metadata": {},
   "outputs": [],
   "source": []
  },
  {
   "cell_type": "code",
   "execution_count": null,
   "metadata": {},
   "outputs": [],
   "source": []
  },
  {
   "cell_type": "markdown",
   "metadata": {},
   "source": [
    "## Ejercicio 4"
   ]
  },
  {
   "cell_type": "markdown",
   "metadata": {},
   "source": [
    "Cuando decimos alejar, no es sinonimo de desplazar, por ejemplo si le sumamos algo estariamos cambiando el centroide no alejandolos. Puede ser?"
   ]
  },
  {
   "cell_type": "code",
   "execution_count": 78,
   "metadata": {},
   "outputs": [],
   "source": [
    "def syntetic_data(number_samples, far):\n",
    "    centroids = np.array([[1,0,0,0],[0,1,0,0]])\n",
    "    centroids_far = centroids*far\n",
    "    data = np.repeat(centroids_far, number_samples/2, axis=0)\n",
    "    normal_noise = np.random.normal(loc=0, scale=1, size=(number_samples,4))\n",
    "    data = data + normal_noise\n",
    "    cluster_ids = np.array([[0],[1],])\n",
    "    cluster_ids = np.repeat(cluster_ids, number_samples/2, axis=0)\n",
    "    \n",
    "    return data, cluster_ids\n",
    "    \n",
    "    \n",
    "    \n",
    "    \n"
   ]
  },
  {
   "cell_type": "code",
   "execution_count": 89,
   "metadata": {},
   "outputs": [],
   "source": [
    "data, cluster_ids = syntetic_data(1000,5)"
   ]
  },
  {
   "cell_type": "code",
   "execution_count": 90,
   "metadata": {},
   "outputs": [
    {
     "data": {
      "text/plain": [
       "<matplotlib.axes._subplots.AxesSubplot at 0x7fa5b7fdd8d0>"
      ]
     },
     "execution_count": 90,
     "metadata": {},
     "output_type": "execute_result"
    },
    {
     "data": {
      "image/png": "[encoded data removed]",
      "text/plain": [
       "<Figure size 432x288 with 1 Axes>"
      ]
     },
     "metadata": {
      "needs_background": "light"
     },
     "output_type": "display_data"
    }
   ],
   "source": [
    "import seaborn as sns\n",
    "\n",
    "sns.scatterplot(x=data[:,0], y=data[:,1], hue=cluster_ids[:,0])"
   ]
  },
  {
   "cell_type": "markdown",
   "metadata": {},
   "source": [
    "# Simulacion de variables aleatoreas"
   ]
  },
  {
   "cell_type": "markdown",
   "metadata": {},
   "source": [
    "## Ejercicio 5"
   ]
  },
  {
   "cell_type": "code",
   "execution_count": 101,
   "metadata": {},
   "outputs": [],
   "source": [
    "\n",
    "\n",
    "def random_exp_samples (number_samples):\n",
    "    va_unif = np.random.uniform(low=0., high=1., size=number_samples)\n",
    "    va_exp = -(np.log(1-va_unif))/2\n",
    "    fig = plt.figure(figsize=(12,6)) \n",
    "    ax0 = fig.add_subplot(1,2,1)\n",
    "    ax1 = fig.add_subplot(1,2,2)\n",
    "    \n",
    "    ax0 = sns.distplot(va_unif[:,0], ax=ax0)\n",
    "    ax0.set_title('Displot VA Generadora')\n",
    "    \n",
    "    ax1 = sns.distplot(va_exp[:,0], ax=ax1)\n",
    "    ax1.set_title('Displot VA Salida')\n",
    "    return va_exp\n",
    "\n",
    "# pasar a funcion"
   ]
  },
  {
   "cell_type": "code",
   "execution_count": 102,
   "metadata": {},
   "outputs": [
    {
     "data": {
      "image/png": "[encoded data removed]",
      "text/plain": [
       "<Figure size 864x432 with 2 Axes>"
      ]
     },
     "metadata": {
      "needs_background": "light"
     },
     "output_type": "display_data"
    }
   ],
   "source": [
    "data = random_exp_samples((1000,1))"
   ]
  },
  {
   "cell_type": "markdown",
   "metadata": {},
   "source": [
    "## Ejercicio 6"
   ]
  },
  {
   "cell_type": "markdown",
   "metadata": {},
   "source": [
    "si FX(x) = x^3 La inversa generalizada seria x^1/3"
   ]
  },
  {
   "cell_type": "code",
   "execution_count": 20,
   "metadata": {},
   "outputs": [],
   "source": [
    "def simul_x3(samples):\n",
    "    va_unif = np.random.uniform(low=0., high=1., size=samples)\n",
    "    data_simul_unif = np.cbrt(va_unif)\n",
    "    \n",
    "   \n",
    "    fig, ((ax2, ax3)) = plt.subplots(1, 2, figsize=(12, 5))\n",
    "    \n",
    "    ax2 = sns.distplot(va_unif[:,0], ax=ax2)\n",
    "    ax2.set_title('Displot VA Generadora uniforme')\n",
    "    \n",
    "    ax3 = sns.distplot(data_simul_unif[:,0], ax=ax3)\n",
    "    ax3.set_title('Displot VA Salida')\n",
    "    \n",
    "    return data_simul_unif"
   ]
  },
  {
   "cell_type": "code",
   "execution_count": 21,
   "metadata": {},
   "outputs": [
    {
     "data": {
      "image/png": "[encoded data removed]",
      "text/plain": [
       "<Figure size 864x360 with 2 Axes>"
      ]
     },
     "metadata": {
      "needs_background": "light"
     },
     "output_type": "display_data"
    }
   ],
   "source": [
    "n_samples = (5000,1)\n",
    "\n",
    "data_simul_unif = simul_x3(n_samples)"
   ]
  },
  {
   "cell_type": "markdown",
   "metadata": {},
   "source": [
    "## Ejercicio 7"
   ]
  },
  {
   "cell_type": "code",
   "execution_count": 56,
   "metadata": {},
   "outputs": [],
   "source": [
    "def z_score(datos):\n",
    "    std = np.std(datos, axis=0)\n",
    "    mean = np.mean(datos, axis=0)\n",
    "    data_norm = (datos - mean)/std\n",
    "    return data_norm"
   ]
  },
  {
   "cell_type": "code",
   "execution_count": 57,
   "metadata": {},
   "outputs": [],
   "source": [
    "a = np.array([[1,4,1],[1,1,1],[6,3,4],[1,1,7],[1,2,1]])"
   ]
  },
  {
   "cell_type": "code",
   "execution_count": 58,
   "metadata": {},
   "outputs": [
    {
     "data": {
      "text/plain": [
       "array([[-0.5       ,  1.54348727, -0.75      ],\n",
       "       [-0.5       , -1.02899151, -0.75      ],\n",
       "       [ 2.        ,  0.68599434,  0.5       ],\n",
       "       [-0.5       , -1.02899151,  1.75      ],\n",
       "       [-0.5       , -0.17149859, -0.75      ]])"
      ]
     },
     "execution_count": 58,
     "metadata": {},
     "output_type": "execute_result"
    }
   ],
   "source": [
    "z_score(a)"
   ]
  },
  {
   "cell_type": "markdown",
   "metadata": {},
   "source": [
    "# Ejercicio 8"
   ]
  },
  {
   "cell_type": "markdown",
   "metadata": {},
   "source": [
    "Crear un pca casero."
   ]
  },
  {
   "cell_type": "code",
   "execution_count": 23,
   "metadata": {},
   "outputs": [],
   "source": [
    "x = np.array([[0.4, 4800, 5.5], [0.7, 12104, 5.2], [1, 12500, 5.5], [1.5, 7002, 4.0]])"
   ]
  },
  {
   "cell_type": "code",
   "execution_count": 50,
   "metadata": {},
   "outputs": [],
   "source": [
    "def pca_casero(datos):\n",
    "    mean = np.mean(datos, axis=0)\n",
    "    x_sinmedia = datos - mean\n",
    "    x_sin_transp = np.transpose(x_sinmedia)\n",
    "    x_cov = np.cov(x_sin_transp)\n",
    "    autoval, autovec = np.linalg.eig(x_cov)\n",
    "    agsort_masc_autovec = np.argsort(autoval)[::-1]\n",
    "    sort_autoval = autoval[agsort_masc_autovec]\n",
    "    sort_autovec = autovec[:,agsort_masc_autovec]\n",
    "    datos_comp = np.matmul(x_sinmedia,sort_autovec)\n",
    "    return datos_comp"
   ]
  },
  {
   "cell_type": "code",
   "execution_count": 51,
   "metadata": {},
   "outputs": [
    {
     "data": {
      "text/plain": [
       "array([[-4.30149998e+03, -8.02326173e-01, -1.95208313e-03],\n",
       "       [ 3.00250000e+03, -1.28909759e-01,  2.06688738e-01],\n",
       "       [ 3.39850002e+03, -2.01714182e-01, -1.92583562e-01],\n",
       "       [-2.09950004e+03,  1.13295011e+00, -1.21530926e-02]])"
      ]
     },
     "execution_count": 51,
     "metadata": {},
     "output_type": "execute_result"
    }
   ],
   "source": [
    "pca_casero(x)"
   ]
  },
  {
   "cell_type": "markdown",
   "metadata": {},
   "source": [
    "Probar si da lo mismo que la funcion de scikit learn."
   ]
  },
  {
   "cell_type": "code",
   "execution_count": 22,
   "metadata": {},
   "outputs": [
    {
     "data": {
      "text/plain": [
       "array([[ 4.30149998e+03, -8.02326173e-01, -1.95208313e-03],\n",
       "       [-3.00250000e+03, -1.28909759e-01,  2.06688738e-01],\n",
       "       [-3.39850002e+03, -2.01714182e-01, -1.92583562e-01],\n",
       "       [ 2.09950004e+03,  1.13295011e+00, -1.21530926e-02]])"
      ]
     },
     "execution_count": 22,
     "metadata": {},
     "output_type": "execute_result"
    }
   ],
   "source": [
    "from sklearn.decomposition import PCA\n",
    "from sklearn.preprocessing import StandardScaler\n",
    "x = np.array([ [0.4, 4800, 5.5], [0.7, 12104, 5.2], [1, 12500, 5.5], [1.5, 7002, 4.0] ])\n",
    "pca = PCA(n_components=3)\n",
    "x_std = StandardScaler(with_std=False).fit_transform(x)\n",
    "pca.fit_transform(x_std)"
   ]
  },
  {
   "cell_type": "markdown",
   "metadata": {},
   "source": [
    "## Ejercicio 9"
   ]
  },
  {
   "cell_type": "code",
   "execution_count": 149,
   "metadata": {},
   "outputs": [],
   "source": [
    "def col_isna_delete (y):\n",
    "    na_rows_mask = (np.isnan(y).sum(axis=0) >= y.shape[0]*0.5)\n",
    "    data_wh_na = y[:,~(na_rows_mask)]\n",
    "    return data_wh_na"
   ]
  },
  {
   "cell_type": "code",
   "execution_count": 145,
   "metadata": {},
   "outputs": [
    {
     "data": {
      "text/plain": [
       "array([[5.0000e-01,        nan, 5.9000e+00],\n",
       "       [4.0000e-01,        nan, 5.5000e+00],\n",
       "       [8.0000e-01,        nan, 4.5000e+00],\n",
       "       [       nan, 1.2104e+04, 5.2000e+00],\n",
       "       [1.0000e+00,        nan, 5.5000e+00],\n",
       "       [1.5000e+00, 7.0020e+03,        nan]])"
      ]
     },
     "execution_count": 145,
     "metadata": {},
     "output_type": "execute_result"
    }
   ],
   "source": [
    "y2 = np.array([ [0.5, np.nan, 5.9],[0.4, np.nan , 5.5], [0.8, np.nan, 4.5],[np.nan, 12104, 5.2], [1, np.nan, 5.5], [1.5, 7002, np.nan] ])\n",
    "y2"
   ]
  },
  {
   "cell_type": "code",
   "execution_count": 150,
   "metadata": {},
   "outputs": [
    {
     "data": {
      "text/plain": [
       "array([[0.5, 5.9],\n",
       "       [0.4, 5.5],\n",
       "       [0.8, 4.5],\n",
       "       [nan, 5.2],\n",
       "       [1. , 5.5],\n",
       "       [1.5, nan]])"
      ]
     },
     "execution_count": 150,
     "metadata": {},
     "output_type": "execute_result"
    }
   ],
   "source": [
    "col_isna_delete(y2)"
   ]
  },
  {
   "cell_type": "markdown",
   "metadata": {},
   "source": [
    "## Ejercicio 10"
   ]
  },
  {
   "cell_type": "markdown",
   "metadata": {},
   "source": [
    "Mean imputer"
   ]
  },
  {
   "cell_type": "code",
   "execution_count": 133,
   "metadata": {},
   "outputs": [],
   "source": [
    "def col_isna_avg_imp (y):\n",
    "    na_rows_mask = (np.isnan(y).sum(axis=1) >= 1)\n",
    "    na_mean_imput = np.where(~(np.isnan(y)), y, y[~(na_rows_mask)].mean(axis=0))\n",
    "    return na_mean_imput\n",
    "    "
   ]
  },
  {
   "cell_type": "code",
   "execution_count": 109,
   "metadata": {},
   "outputs": [
    {
     "data": {
      "text/plain": [
       "array([[5.0000e-01, 9.0000e+03, 5.9000e+00],\n",
       "       [4.0000e-01,        nan, 5.5000e+00],\n",
       "       [8.0000e-01, 1.5000e+03, 4.5000e+00],\n",
       "       [       nan, 1.2104e+04, 5.2000e+00],\n",
       "       [1.0000e+00, 1.2500e+04, 5.5000e+00],\n",
       "       [1.5000e+00, 7.0020e+03,        nan]])"
      ]
     },
     "execution_count": 109,
     "metadata": {},
     "output_type": "execute_result"
    }
   ],
   "source": [
    "y = np.array([ [0.5, 9000, 5.9],[0.4, np.nan , 5.5], [0.8, 1500, 4.5],[np.nan, 12104, 5.2], [1, 12500, 5.5], [1.5, 7002, np.nan] ])\n",
    "y"
   ]
  },
  {
   "cell_type": "code",
   "execution_count": 134,
   "metadata": {},
   "outputs": [
    {
     "data": {
      "text/plain": [
       "array([[5.00000000e-01, 9.00000000e+03, 5.90000000e+00],\n",
       "       [4.00000000e-01, 7.66666667e+03, 5.50000000e+00],\n",
       "       [8.00000000e-01, 1.50000000e+03, 4.50000000e+00],\n",
       "       [7.66666667e-01, 1.21040000e+04, 5.20000000e+00],\n",
       "       [1.00000000e+00, 1.25000000e+04, 5.50000000e+00],\n",
       "       [1.50000000e+00, 7.00200000e+03, 5.30000000e+00]])"
      ]
     },
     "execution_count": 134,
     "metadata": {},
     "output_type": "execute_result"
    }
   ],
   "source": [
    "col_isna_avg_imp(y)"
   ]
  },
  {
   "cell_type": "markdown",
   "metadata": {},
   "source": [
    "## Ejercicio 11"
   ]
  },
  {
   "cell_type": "code",
   "execution_count": 209,
   "metadata": {},
   "outputs": [],
   "source": [
    "#Posibles repeticiones\n",
    "def splitter_dataset_702010r(dataset):\n",
    "    train_data = np.random.permutation(dataset)[:int(dataset.shape[0]*0.7),:dataset.shape[1]]\n",
    "    valid_data = np.random.permutation(dataset)[:int(dataset.shape[0]*0.2),:dataset.shape[1]]\n",
    "    test_data = np.random.permutation(dataset)[:int(dataset.shape[0]*0.1),:dataset.shape[1]]\n",
    "    return train_data, valid_data, test_data"
   ]
  },
  {
   "cell_type": "code",
   "execution_count": 236,
   "metadata": {},
   "outputs": [],
   "source": [
    "#Sin repeticiones\n",
    "def splitter_dataset_702010(dataset):\n",
    "    train_data = np.random.permutation(dataset)[:int(dataset.shape[0]*0.7),:dataset.shape[1]]\n",
    "    valid_data = np.random.permutation(dataset[~(np.isin(dataset,train_data).sum(axis=1)==3),:])[:int(dataset.shape[0]*0.2),:dataset.shape[1]]\n",
    "    valid_dataset = dataset[~(np.isin(dataset,train_data).sum(axis=1)==3),:]\n",
    "    test_data = np.random.permutation(valid_dataset[~(np.isin(valid_dataset,valid_data).sum(axis=1)==3),:])[:(dataset.shape[0]-train_data.shape[0]-valid_data.shape[0]),:dataset.shape[1]]\n",
    "    return train_data, valid_data, test_data\n"
   ]
  },
  {
   "cell_type": "code",
   "execution_count": 151,
   "metadata": {},
   "outputs": [
    {
     "data": {
      "text/plain": [
       "array([[5.0000e-01, 9.0000e+03, 5.9000e+00],\n",
       "       [4.0000e-01, 5.8220e+03, 5.5000e+00],\n",
       "       [8.0000e-01, 1.5000e+03, 4.5000e+00],\n",
       "       [1.9000e+00, 1.2104e+04, 5.2000e+00],\n",
       "       [1.0000e+00, 1.2500e+04, 5.5000e+00],\n",
       "       [1.5000e+00, 7.0020e+03, 6.0000e+00]])"
      ]
     },
     "execution_count": 151,
     "metadata": {},
     "output_type": "execute_result"
    }
   ],
   "source": [
    "y3 = np.array([ [0.5, 9000, 5.9],[0.4, 5822 , 5.5], [0.8, 1500, 4.5],[1.9, 12104, 5.2], [1, 12500, 5.5], [1.5, 7002, 6.0] ])\n",
    "y3"
   ]
  },
  {
   "cell_type": "code",
   "execution_count": 237,
   "metadata": {},
   "outputs": [
    {
     "data": {
      "text/plain": [
       "(array([[5.000e-01, 9.000e+03, 5.900e+00],\n",
       "        [1.000e+00, 1.250e+04, 5.500e+00],\n",
       "        [8.000e-01, 1.500e+03, 4.500e+00],\n",
       "        [1.500e+00, 7.002e+03, 6.000e+00]]),\n",
       " array([[4.000e-01, 5.822e+03, 5.500e+00]]),\n",
       " array([[1.9000e+00, 1.2104e+04, 5.2000e+00]]))"
      ]
     },
     "execution_count": 237,
     "metadata": {},
     "output_type": "execute_result"
    }
   ],
   "source": [
    "splitter_dataset_702010(y3)"
   ]
  },
  {
   "cell_type": "markdown",
   "metadata": {},
   "source": [
    "## Ejercicio 12"
   ]
  },
  {
   "cell_type": "code",
   "execution_count": null,
   "metadata": {},
   "outputs": [],
   "source": []
  },
  {
   "cell_type": "code",
   "execution_count": null,
   "metadata": {},
   "outputs": [],
   "source": []
  },
  {
   "cell_type": "code",
   "execution_count": null,
   "metadata": {},
   "outputs": [],
   "source": []
  },
  {
   "cell_type": "code",
   "execution_count": null,
   "metadata": {},
   "outputs": [],
   "source": []
  },
  {
   "cell_type": "code",
   "execution_count": null,
   "metadata": {},
   "outputs": [],
   "source": []
  }
 ],
 "metadata": {
  "kernelspec": {
   "display_name": "Python 3",
   "language": "python",
   "name": "python3"
  },
  "language_info": {
   "codemirror_mode": {
    "name": "ipython",
    "version": 3
   },
   "file_extension": ".py",
   "mimetype": "text/x-python",
   "name": "python",
   "nbconvert_exporter": "python",
   "pygments_lexer": "ipython3",
   "version": "3.7.6"
  }
 },
 "nbformat": 4,
 "nbformat_minor": 4
}
