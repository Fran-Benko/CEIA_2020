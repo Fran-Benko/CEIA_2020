{
 "cells": [
  {
   "cell_type": "code",
   "execution_count": 4,
   "metadata": {},
   "outputs": [],
   "source": [
    "import math\n",
    "import numpy as np"
   ]
  },
  {
   "cell_type": "markdown",
   "metadata": {},
   "source": [
    "## Ejercicio 1"
   ]
  },
  {
   "cell_type": "code",
   "execution_count": 7,
   "metadata": {},
   "outputs": [
    {
     "data": {
      "text/plain": [
       "0.1171875"
      ]
     },
     "execution_count": 7,
     "metadata": {},
     "output_type": "execute_result"
    }
   ],
   "source": [
    "# a \n",
    "combinaciones_totales = 2**10\n",
    "combinacion_de_2_elemntos_que_repetidos_3y7_veces = math.factorial(10)/(math.factorial(3)*math.factorial(7))\n",
    "probabilidad = combinacion_de_2_elemntos_que_repetidos_3y7_veces/combinaciones_totales\n",
    "probabilidad"
   ]
  },
  {
   "cell_type": "code",
   "execution_count": 11,
   "metadata": {},
   "outputs": [
    {
     "data": {
      "text/plain": [
       "0.978125"
      ]
     },
     "execution_count": 11,
     "metadata": {},
     "output_type": "execute_result"
    }
   ],
   "source": [
    "# b\n",
    "combinaciones_totales = 2**10\n",
    "combinacion_de_2_elemntos_que_repetidos_2y8_veces = math.factorial(10)/(math.factorial(2)*math.factorial(8))\n",
    "combinacion_de_2_elemntos_que_repetidos_1y9_veces = math.factorial(10)/(math.factorial(1)*math.factorial(9))\n",
    "combinacion_de_2_elemntos_que_repetidos_0y10_veces = math.factorial(10)/(math.factorial(0)*math.factorial(10))\n",
    "\n",
    "prob_0caras = combinacion_de_2_elemntos_que_repetidos_0y10_veces/combinaciones_totales\n",
    "prob_1caras = combinacion_de_2_elemntos_que_repetidos_1y9_veces/combinaciones_totales\n",
    "prob_2caras = combinacion_de_2_elemntos_que_repetidos_2y8_veces/combinaciones_totales\n",
    "\n",
    "prob_menor3 = (prob_0caras+prob_1caras+prob_2caras)*0.4\n",
    "prob_mayorigual3 = 1-prob_menor3\n",
    "prob_mayorigual3"
   ]
  },
  {
   "cell_type": "code",
   "execution_count": 12,
   "metadata": {},
   "outputs": [
    {
     "data": {
      "text/plain": [
       "0.978125"
      ]
     },
     "execution_count": 12,
     "metadata": {},
     "output_type": "execute_result"
    }
   ],
   "source": [
    "\n",
    "combinaciones_totales = 2**10\n",
    "\n",
    "comb = np.array([math.factorial(10)/(math.factorial(2)*math.factorial(8)), \n",
    "                math.factorial(10)/(math.factorial(1)*math.factorial(9)), \n",
    "                math.factorial(10)/(math.factorial(0)*math.factorial(10))])\n",
    "\n",
    "probs = comb/combinaciones_totales\n",
    "\n",
    "prob_menor3 = np.sum(probs)*0.4\n",
    "prob_mayorigual3 = 1-prob_menor3\n",
    "prob_mayorigual3"
   ]
  },
  {
   "cell_type": "code",
   "execution_count": 15,
   "metadata": {},
   "outputs": [
    {
     "data": {
      "text/plain": [
       "0.9640625000000002"
      ]
     },
     "execution_count": 15,
     "metadata": {},
     "output_type": "execute_result"
    }
   ],
   "source": [
    "# c\n",
    "\n",
    "prob_cara=0.6\n",
    "\n",
    "#prob de sacar al menos 3 cecas en las proximas 9 \n",
    "\n",
    "combinaciones_totales = 2**9\n",
    "\n",
    "comb = np.array([math.factorial(9)/(math.factorial(2)*math.factorial(7)), \n",
    "                math.factorial(9)/(math.factorial(1)*math.factorial(8)), \n",
    "                math.factorial(9)/(math.factorial(0)*math.factorial(9))])\n",
    "\n",
    "probs = comb/combinaciones_totales\n",
    "\n",
    "prob_menor3 = np.sum(probs)*0.4\n",
    "prob_mayorigual3 = 1-prob_menor3\n",
    "\n",
    "\n",
    "#segun bayes y dado que los eventos son independientes\n",
    "\n",
    "prob_3cecas = (prob_cara*prob_mayorigual3)/prob_cara\n",
    "prob_3cecas"
   ]
  },
  {
   "cell_type": "code",
   "execution_count": 29,
   "metadata": {},
   "outputs": [
    {
     "data": {
      "text/plain": [
       "array([0.90227608])"
      ]
     },
     "execution_count": 29,
     "metadata": {},
     "output_type": "execute_result"
    }
   ],
   "source": [
    "# d\n",
    "\n",
    "#i) 0 ceca / 1 cara\n",
    "#simulation of a\n",
    "\n",
    "P_exactamente3 = np.random.uniform(low=0,high=1,size=1)\n",
    "P_exactamente3"
   ]
  },
  {
   "cell_type": "code",
   "execution_count": 50,
   "metadata": {},
   "outputs": [
    {
     "data": {
      "text/plain": [
       "0.8"
      ]
     },
     "execution_count": 50,
     "metadata": {},
     "output_type": "execute_result"
    }
   ],
   "source": [
    "#ii) \n",
    "\n",
    "#simulation of b\n",
    "sum(np.random.binomial(10, .6, 10) <= 7)/10"
   ]
  },
  {
   "cell_type": "code",
   "execution_count": 60,
   "metadata": {},
   "outputs": [
    {
     "data": {
      "text/plain": [
       "1.0"
      ]
     },
     "execution_count": 60,
     "metadata": {},
     "output_type": "execute_result"
    }
   ],
   "source": [
    "#simulation of c\n",
    "prob_almenos3secas = sum(np.random.binomial(1, .6, 9) <= 6)/9\n",
    "\n",
    "prob_c = prob_almenos3secas*0.6/0.6\n",
    "prob_c"
   ]
  },
  {
   "cell_type": "code",
   "execution_count": null,
   "metadata": {},
   "outputs": [],
   "source": []
  }
 ],
 "metadata": {
  "kernelspec": {
   "display_name": "Python 3",
   "language": "python",
   "name": "python3"
  },
  "language_info": {
   "codemirror_mode": {
    "name": "ipython",
    "version": 3
   },
   "file_extension": ".py",
   "mimetype": "text/x-python",
   "name": "python",
   "nbconvert_exporter": "python",
   "pygments_lexer": "ipython3",
   "version": "3.7.6"
  }
 },
 "nbformat": 4,
 "nbformat_minor": 4
}
