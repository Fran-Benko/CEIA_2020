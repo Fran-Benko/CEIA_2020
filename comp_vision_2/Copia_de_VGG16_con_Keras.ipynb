{
  "nbformat": 4,
  "nbformat_minor": 0,
  "metadata": {
    "kernelspec": {
      "display_name": "Python 3",
      "language": "python",
      "name": "python3"
    },
    "language_info": {
      "codemirror_mode": {
        "name": "ipython",
        "version": 3
      },
      "file_extension": ".py",
      "mimetype": "text/x-python",
      "name": "python",
      "nbconvert_exporter": "python",
      "pygments_lexer": "ipython3",
      "version": "3.7.6"
    },
    "colab": {
      "name": "Copia de VGG16_con_Keras.ipynb",
      "provenance": [],
      "collapsed_sections": []
    },
    "accelerator": "GPU"
  },
  "cells": [
    {
      "cell_type": "code",
      "metadata": {
        "id": "ClMhk3rw-aQA",
        "colab": {
          "base_uri": "https://localhost:8080/"
        },
        "outputId": "edfedf51-6270-41be-8d34-f31d566e5274"
      },
      "source": [
        "!wget --no-check-certificate \\\n",
        "  https://storage.googleapis.com/mledu-datasets/cats_and_dogs_filtered.zip \\\n",
        "  -O cats_and_dogs_filtered.zip"
      ],
      "execution_count": null,
      "outputs": [
        {
          "output_type": "stream",
          "text": [
            "--2020-12-20 21:19:47--  https://storage.googleapis.com/mledu-datasets/cats_and_dogs_filtered.zip\n",
            "Resolving storage.googleapis.com (storage.googleapis.com)... 172.217.13.80, 172.217.13.240, 172.217.12.240, ...\n",
            "Connecting to storage.googleapis.com (storage.googleapis.com)|172.217.13.80|:443... connected.\n",
            "HTTP request sent, awaiting response... 200 OK\n",
            "Length: 68606236 (65M) [application/zip]\n",
            "Saving to: ‘cats_and_dogs_filtered.zip’\n",
            "\n",
            "cats_and_dogs_filte 100%[===================>]  65.43M   157MB/s    in 0.4s    \n",
            "\n",
            "2020-12-20 21:19:48 (157 MB/s) - ‘cats_and_dogs_filtered.zip’ saved [68606236/68606236]\n",
            "\n"
          ],
          "name": "stdout"
        }
      ]
    },
    {
      "cell_type": "code",
      "metadata": {
        "id": "dsmSGBQe-aQE"
      },
      "source": [
        "! unzip -q cats_and_dogs_filtered.zip"
      ],
      "execution_count": null,
      "outputs": []
    },
    {
      "cell_type": "code",
      "metadata": {
        "id": "0UvArfTv-aQI"
      },
      "source": [
        "import os\n",
        "from tensorflow.keras import Model\n",
        "from tensorflow.keras.models import Sequential\n",
        "from tensorflow.keras.layers import Dense, Conv2D, MaxPool2D , Flatten\n",
        "from tensorflow.keras.preprocessing.image import ImageDataGenerator\n",
        "from tensorflow.keras import Input\n",
        "import numpy as np"
      ],
      "execution_count": null,
      "outputs": []
    },
    {
      "cell_type": "code",
      "metadata": {
        "id": "qCxEvt-Y-aQL",
        "colab": {
          "base_uri": "https://localhost:8080/"
        },
        "outputId": "e3e8ae2e-a98d-4c3c-a578-6e92788428dd"
      },
      "source": [
        "train_dir = \"cats_and_dogs_filtered/train\"\n",
        "validation_dir = \"cats_and_dogs_filtered/validation\"\n",
        "trdata = ImageDataGenerator()\n",
        "traindata = trdata.flow_from_directory(directory=train_dir,target_size=(224,224))\n",
        "tsdata = ImageDataGenerator()\n",
        "testdata = tsdata.flow_from_directory(directory=validation_dir, target_size=(224,224))"
      ],
      "execution_count": null,
      "outputs": [
        {
          "output_type": "stream",
          "text": [
            "Found 2000 images belonging to 2 classes.\n",
            "Found 1000 images belonging to 2 classes.\n"
          ],
          "name": "stdout"
        }
      ]
    },
    {
      "cell_type": "markdown",
      "metadata": {
        "id": "mQhkjjRI-aQR"
      },
      "source": [
        "### Reescribir la red utilizando el método funcional y definiendo una función de ayuda."
      ]
    },
    {
      "cell_type": "code",
      "metadata": {
        "id": "hlGI9L4m-aQS",
        "colab": {
          "base_uri": "https://localhost:8080/"
        },
        "outputId": "1c38d7ff-f09c-415e-92ad-3ba6c64b4433"
      },
      "source": [
        "## inputs = Input(shape=(224,224,3)), etc.\n",
        "def create_block(n_filters, n_layers, inputs):\n",
        "    '''\n",
        "    Entradas:\n",
        "     n_filters: numero de filtros del bloque\n",
        "     n_layers: número de capas del bloque\n",
        "     inputs: tensor de entrada\n",
        "    Retorna:\n",
        "     tensor de salida con las capas aplicadas\n",
        "    '''\n",
        "    # usar un bucle for para agregar n_layers capas convolucionales\n",
        "    # luego, agregar la capa MaxPool2D y retornarla\n",
        "    for layer in range(0, n_layers):\n",
        "      inputs = Conv2D(filters=n_filters,kernel_size=(3,3),padding=\"same\", activation=\"relu\")(inputs)\n",
        "    #Agregar maxPool\n",
        "    inputs = MaxPool2D(pool_size=(2,2),strides=(2,2))(inputs)\n",
        "    return inputs\n",
        "    \n",
        "# reemplazar los bloques usando la función create_block\n",
        "\n",
        "inputs = Input(shape=(224,224,3))\n",
        "\n",
        "x = create_block(64, 2, inputs)\n",
        "x = create_block(128, 2, x)\n",
        "x = create_block(256, 3, x)\n",
        "x = create_block(512, 3, x)\n",
        "x = create_block(512, 3, x)\n",
        "\n",
        "flat = Flatten()(x)\n",
        "\n",
        "dense = Dense(units=4096,activation=\"relu\")(flat)\n",
        "dense = Dense(units=4096,activation=\"relu\")(dense)\n",
        "\n",
        "output = Dense(units=2, activation=\"softmax\")(dense)\n",
        "\n",
        "model_f = Model(inputs=inputs, outputs=output, name=\"VGG_func\")\n",
        "\n",
        "model_f.summary()\n",
        "\n",
        "\n",
        "from tensorflow.keras.optimizers import Adam\n",
        "from tensorflow.keras.losses import categorical_crossentropy\n",
        "opt = Adam(lr=0.01)\n",
        "model_f.compile(optimizer=opt, loss=categorical_crossentropy, metrics=['accuracy'])\n"
      ],
      "execution_count": null,
      "outputs": [
        {
          "output_type": "stream",
          "text": [
            "Model: \"VGG_func\"\n",
            "_________________________________________________________________\n",
            "Layer (type)                 Output Shape              Param #   \n",
            "=================================================================\n",
            "input_3 (InputLayer)         [(None, 224, 224, 3)]     0         \n",
            "_________________________________________________________________\n",
            "conv2d_26 (Conv2D)           (None, 224, 224, 64)      1792      \n",
            "_________________________________________________________________\n",
            "conv2d_27 (Conv2D)           (None, 224, 224, 64)      36928     \n",
            "_________________________________________________________________\n",
            "max_pooling2d_10 (MaxPooling (None, 112, 112, 64)      0         \n",
            "_________________________________________________________________\n",
            "conv2d_28 (Conv2D)           (None, 112, 112, 128)     73856     \n",
            "_________________________________________________________________\n",
            "conv2d_29 (Conv2D)           (None, 112, 112, 128)     147584    \n",
            "_________________________________________________________________\n",
            "max_pooling2d_11 (MaxPooling (None, 56, 56, 128)       0         \n",
            "_________________________________________________________________\n",
            "conv2d_30 (Conv2D)           (None, 56, 56, 256)       295168    \n",
            "_________________________________________________________________\n",
            "conv2d_31 (Conv2D)           (None, 56, 56, 256)       590080    \n",
            "_________________________________________________________________\n",
            "conv2d_32 (Conv2D)           (None, 56, 56, 256)       590080    \n",
            "_________________________________________________________________\n",
            "max_pooling2d_12 (MaxPooling (None, 28, 28, 256)       0         \n",
            "_________________________________________________________________\n",
            "conv2d_33 (Conv2D)           (None, 28, 28, 512)       1180160   \n",
            "_________________________________________________________________\n",
            "conv2d_34 (Conv2D)           (None, 28, 28, 512)       2359808   \n",
            "_________________________________________________________________\n",
            "conv2d_35 (Conv2D)           (None, 28, 28, 512)       2359808   \n",
            "_________________________________________________________________\n",
            "max_pooling2d_13 (MaxPooling (None, 14, 14, 512)       0         \n",
            "_________________________________________________________________\n",
            "conv2d_36 (Conv2D)           (None, 14, 14, 512)       2359808   \n",
            "_________________________________________________________________\n",
            "conv2d_37 (Conv2D)           (None, 14, 14, 512)       2359808   \n",
            "_________________________________________________________________\n",
            "conv2d_38 (Conv2D)           (None, 14, 14, 512)       2359808   \n",
            "_________________________________________________________________\n",
            "max_pooling2d_14 (MaxPooling (None, 7, 7, 512)         0         \n",
            "_________________________________________________________________\n",
            "flatten_2 (Flatten)          (None, 25088)             0         \n",
            "_________________________________________________________________\n",
            "dense_6 (Dense)              (None, 4096)              102764544 \n",
            "_________________________________________________________________\n",
            "dense_7 (Dense)              (None, 4096)              16781312  \n",
            "_________________________________________________________________\n",
            "dense_8 (Dense)              (None, 2)                 8194      \n",
            "=================================================================\n",
            "Total params: 134,268,738\n",
            "Trainable params: 134,268,738\n",
            "Non-trainable params: 0\n",
            "_________________________________________________________________\n"
          ],
          "name": "stdout"
        }
      ]
    },
    {
      "cell_type": "code",
      "metadata": {
        "colab": {
          "base_uri": "https://localhost:8080/"
        },
        "id": "e7Ihj8ud69Er",
        "outputId": "ceadc2bc-2ff0-4e18-ea76-027932e43fa0"
      },
      "source": [
        "model = Sequential()\n",
        "model.add(Conv2D(input_shape=(224,224,3),filters=64,kernel_size=(3,3),padding=\"same\", activation=\"relu\"))\n",
        "model.add(Conv2D(filters=64,kernel_size=(3,3),padding=\"same\", activation=\"relu\"))\n",
        "model.add(MaxPool2D(pool_size=(2,2),strides=(2,2)))\n",
        "model.add(Conv2D(filters=128, kernel_size=(3,3), padding=\"same\", activation=\"relu\"))\n",
        "model.add(Conv2D(filters=128, kernel_size=(3,3), padding=\"same\", activation=\"relu\"))\n",
        "model.add(MaxPool2D(pool_size=(2,2),strides=(2,2)))\n",
        "model.add(Conv2D(filters=256, kernel_size=(3,3), padding=\"same\", activation=\"relu\"))\n",
        "model.add(Conv2D(filters=256, kernel_size=(3,3), padding=\"same\", activation=\"relu\"))\n",
        "model.add(Conv2D(filters=256, kernel_size=(3,3), padding=\"same\", activation=\"relu\"))\n",
        "model.add(MaxPool2D(pool_size=(2,2),strides=(2,2)))\n",
        "model.add(Conv2D(filters=512, kernel_size=(3,3), padding=\"same\", activation=\"relu\"))\n",
        "model.add(Conv2D(filters=512, kernel_size=(3,3), padding=\"same\", activation=\"relu\"))\n",
        "model.add(Conv2D(filters=512, kernel_size=(3,3), padding=\"same\", activation=\"relu\"))\n",
        "model.add(MaxPool2D(pool_size=(2,2),strides=(2,2)))\n",
        "model.add(Conv2D(filters=512, kernel_size=(3,3), padding=\"same\", activation=\"relu\"))\n",
        "model.add(Conv2D(filters=512, kernel_size=(3,3), padding=\"same\", activation=\"relu\"))\n",
        "model.add(Conv2D(filters=512, kernel_size=(3,3), padding=\"same\", activation=\"relu\"))\n",
        "model.add(MaxPool2D(pool_size=(2,2),strides=(2,2)))\n",
        "model.add(Flatten())\n",
        "model.add(Dense(units=4096,activation=\"relu\"))\n",
        "model.add(Dense(units=4096,activation=\"relu\"))\n",
        "model.add(Dense(units=2, activation=\"softmax\"))\n",
        "from tensorflow.keras.optimizers import Adam\n",
        "from tensorflow.keras.losses import categorical_crossentropy\n",
        "opt = Adam(lr=0.01)\n",
        "model.compile(optimizer=opt, loss=categorical_crossentropy, metrics=['accuracy'])\n",
        "model.summary()"
      ],
      "execution_count": null,
      "outputs": [
        {
          "output_type": "stream",
          "text": [
            "Model: \"sequential\"\n",
            "_________________________________________________________________\n",
            "Layer (type)                 Output Shape              Param #   \n",
            "=================================================================\n",
            "conv2d_26 (Conv2D)           (None, 224, 224, 64)      1792      \n",
            "_________________________________________________________________\n",
            "conv2d_27 (Conv2D)           (None, 224, 224, 64)      36928     \n",
            "_________________________________________________________________\n",
            "max_pooling2d_10 (MaxPooling (None, 112, 112, 64)      0         \n",
            "_________________________________________________________________\n",
            "conv2d_28 (Conv2D)           (None, 112, 112, 128)     73856     \n",
            "_________________________________________________________________\n",
            "conv2d_29 (Conv2D)           (None, 112, 112, 128)     147584    \n",
            "_________________________________________________________________\n",
            "max_pooling2d_11 (MaxPooling (None, 56, 56, 128)       0         \n",
            "_________________________________________________________________\n",
            "conv2d_30 (Conv2D)           (None, 56, 56, 256)       295168    \n",
            "_________________________________________________________________\n",
            "conv2d_31 (Conv2D)           (None, 56, 56, 256)       590080    \n",
            "_________________________________________________________________\n",
            "conv2d_32 (Conv2D)           (None, 56, 56, 256)       590080    \n",
            "_________________________________________________________________\n",
            "max_pooling2d_12 (MaxPooling (None, 28, 28, 256)       0         \n",
            "_________________________________________________________________\n",
            "conv2d_33 (Conv2D)           (None, 28, 28, 512)       1180160   \n",
            "_________________________________________________________________\n",
            "conv2d_34 (Conv2D)           (None, 28, 28, 512)       2359808   \n",
            "_________________________________________________________________\n",
            "conv2d_35 (Conv2D)           (None, 28, 28, 512)       2359808   \n",
            "_________________________________________________________________\n",
            "max_pooling2d_13 (MaxPooling (None, 14, 14, 512)       0         \n",
            "_________________________________________________________________\n",
            "conv2d_36 (Conv2D)           (None, 14, 14, 512)       2359808   \n",
            "_________________________________________________________________\n",
            "conv2d_37 (Conv2D)           (None, 14, 14, 512)       2359808   \n",
            "_________________________________________________________________\n",
            "conv2d_38 (Conv2D)           (None, 14, 14, 512)       2359808   \n",
            "_________________________________________________________________\n",
            "max_pooling2d_14 (MaxPooling (None, 7, 7, 512)         0         \n",
            "_________________________________________________________________\n",
            "flatten_2 (Flatten)          (None, 25088)             0         \n",
            "_________________________________________________________________\n",
            "dense_6 (Dense)              (None, 4096)              102764544 \n",
            "_________________________________________________________________\n",
            "dense_7 (Dense)              (None, 4096)              16781312  \n",
            "_________________________________________________________________\n",
            "dense_8 (Dense)              (None, 2)                 8194      \n",
            "=================================================================\n",
            "Total params: 134,268,738\n",
            "Trainable params: 134,268,738\n",
            "Non-trainable params: 0\n",
            "_________________________________________________________________\n"
          ],
          "name": "stdout"
        }
      ]
    },
    {
      "cell_type": "code",
      "metadata": {
        "id": "JpVz7JEJ-aQU"
      },
      "source": [
        "from tensorflow.keras.callbacks import ModelCheckpoint, EarlyStopping\n",
        "checkpoint = ModelCheckpoint(\"vgg16_1.h5\", monitor='val_accuracy', verbose=1, save_best_only=True, \n",
        "                             save_weights_only=False, mode='auto', save_freq=1000)\n",
        "early = EarlyStopping(monitor='val_accuracy', min_delta=0, patience=20, verbose=1, mode='auto')\n"
      ],
      "execution_count": null,
      "outputs": []
    },
    {
      "cell_type": "code",
      "metadata": {
        "id": "Na_8qfq8-aQY",
        "colab": {
          "base_uri": "https://localhost:8080/"
        },
        "outputId": "5c061244-7bf9-483c-abce-6c6b7a3ceb74"
      },
      "source": [
        "hist = model_f.fit_generator(steps_per_epoch=62, generator=traindata, validation_data=testdata, validation_steps=10, epochs=10, callbacks=[checkpoint,early])"
      ],
      "execution_count": null,
      "outputs": [
        {
          "output_type": "stream",
          "text": [
            "/usr/local/lib/python3.6/dist-packages/tensorflow/python/keras/engine/training.py:1844: UserWarning: `Model.fit_generator` is deprecated and will be removed in a future version. Please use `Model.fit`, which supports generators.\n",
            "  warnings.warn('`Model.fit_generator` is deprecated and '\n"
          ],
          "name": "stderr"
        },
        {
          "output_type": "stream",
          "text": [
            "Epoch 1/10\n",
            "62/62 [==============================] - 28s 430ms/step - loss: 2709197813727.5029 - accuracy: 0.5091 - val_loss: 0.7677 - val_accuracy: 0.4938\n",
            "Epoch 2/10\n",
            "62/62 [==============================] - 26s 424ms/step - loss: 0.7162 - accuracy: 0.4934 - val_loss: 0.6942 - val_accuracy: 0.4531\n",
            "Epoch 3/10\n",
            "62/62 [==============================] - 26s 422ms/step - loss: 0.6944 - accuracy: 0.4972 - val_loss: 0.6923 - val_accuracy: 0.5219\n",
            "Epoch 4/10\n",
            "62/62 [==============================] - 26s 423ms/step - loss: 0.6939 - accuracy: 0.4909 - val_loss: 0.6964 - val_accuracy: 0.5094\n",
            "Epoch 5/10\n",
            "26/62 [===========>..................] - ETA: 14s - loss: 0.6990 - accuracy: 0.4688WARNING:tensorflow:Can save best model only with val_accuracy available, skipping.\n",
            "62/62 [==============================] - 26s 423ms/step - loss: 0.6975 - accuracy: 0.4753 - val_loss: 0.6934 - val_accuracy: 0.4938\n",
            "Epoch 6/10\n",
            "62/62 [==============================] - 26s 423ms/step - loss: 0.6945 - accuracy: 0.5064 - val_loss: 0.6945 - val_accuracy: 0.4969\n",
            "Epoch 7/10\n",
            "62/62 [==============================] - 26s 423ms/step - loss: 0.6981 - accuracy: 0.4776 - val_loss: 0.6933 - val_accuracy: 0.5125\n",
            "Epoch 8/10\n",
            "62/62 [==============================] - 26s 422ms/step - loss: 0.6948 - accuracy: 0.4959 - val_loss: 0.6930 - val_accuracy: 0.5094\n",
            "Epoch 9/10\n",
            "62/62 [==============================] - 26s 423ms/step - loss: 0.6946 - accuracy: 0.4829 - val_loss: 0.6931 - val_accuracy: 0.5219\n",
            "Epoch 10/10\n",
            "62/62 [==============================] - 26s 421ms/step - loss: 0.7008 - accuracy: 0.4709 - val_loss: 0.6932 - val_accuracy: 0.5125\n"
          ],
          "name": "stdout"
        }
      ]
    },
    {
      "cell_type": "code",
      "metadata": {
        "id": "kniVmEoL-aQb",
        "colab": {
          "base_uri": "https://localhost:8080/",
          "height": 295
        },
        "outputId": "eb9c9596-e447-4aa7-b367-bc0f6f771f44"
      },
      "source": [
        "import matplotlib.pyplot as plt\n",
        "plt.plot(hist.history[\"accuracy\"])\n",
        "plt.plot(hist.history['val_accuracy'])\n",
        "plt.plot(hist.history['loss'])\n",
        "plt.plot(hist.history['val_loss'])\n",
        "plt.title(\"Accuracy del modelo\")\n",
        "plt.ylabel(\"Accuracy\")\n",
        "plt.xlabel(\"Epoch\")\n",
        "plt.legend([\"Accuracy\",\"Validation Accuracy\",\"loss\",\"Validation Loss\"])\n",
        "plt.show()"
      ],
      "execution_count": null,
      "outputs": [
        {
          "output_type": "display_data",
          "data": {
            "image/png": "[encoded data removed]",
            "text/plain": [
              "<Figure size 432x288 with 1 Axes>"
            ]
          },
          "metadata": {
            "tags": [],
            "needs_background": "light"
          }
        }
      ]
    },
    {
      "cell_type": "code",
      "metadata": {
        "id": "-Jw-Iu7bGh3e"
      },
      "source": [
        ""
      ],
      "execution_count": null,
      "outputs": []
    },
    {
      "cell_type": "code",
      "metadata": {
        "id": "rwwPVVr7CN7S"
      },
      "source": [
        "from tensorflow.keras.preprocessing import image\n",
        "# bajar una imagen de ejemplo de internet\n",
        "img = image.load_img(\"ejemplo.jpeg\",target_size=(224,224))\n",
        "img = np.asarray(img)\n",
        "plt.imshow(img)\n",
        "img = np.expand_dims(img, axis=0)\n",
        "from keras.models import load_model\n",
        "saved_model = load_model(\"vgg16_1.h5\")\n",
        "output = saved_model.predict(img)\n",
        "if output[0][0] > output[0][1]:\n",
        "    print(\"cat\")\n",
        "else:\n",
        "    print('dog')"
      ],
      "execution_count": null,
      "outputs": []
    }
  ]
}