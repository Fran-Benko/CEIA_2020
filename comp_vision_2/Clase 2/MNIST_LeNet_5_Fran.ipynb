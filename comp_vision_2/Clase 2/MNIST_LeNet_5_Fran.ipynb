{
  "nbformat": 4,
  "nbformat_minor": 0,
  "metadata": {
    "colab": {
      "name": "MNIST_LeNet-5_Fran.ipynb",
      "provenance": []
    },
    "kernelspec": {
      "name": "python3",
      "display_name": "Python 3"
    }
  },
  "cells": [
    {
      "cell_type": "code",
      "metadata": {
        "id": "Zku-go5k6-IY"
      },
      "source": [
        "import keras\n",
        "import pandas as pd\n",
        "import matplotlib.pyplot as plt\n",
        "from keras.datasets import mnist\n",
        "from keras.layers import Conv2D, MaxPooling2D\n",
        "from keras.layers import Dense, Flatten\n",
        "from keras.models import Sequential"
      ],
      "execution_count": 15,
      "outputs": []
    },
    {
      "cell_type": "code",
      "metadata": {
        "id": "QGZ7BIqz7NEs",
        "outputId": "0eec3715-f423-4578-98fa-9a2fe84c9e43",
        "colab": {
          "base_uri": "https://localhost:8080/"
        }
      },
      "source": [
        "(x_train, y_train), (x_test, y_test) = mnist.load_data()"
      ],
      "execution_count": 2,
      "outputs": [
        {
          "output_type": "stream",
          "text": [
            "Downloading data from https://storage.googleapis.com/tensorflow/tf-keras-datasets/mnist.npz\n",
            "11493376/11490434 [==============================] - 0s 0us/step\n"
          ],
          "name": "stdout"
        }
      ]
    },
    {
      "cell_type": "code",
      "metadata": {
        "id": "SatkzrcM7NG6",
        "outputId": "b399a42f-8d78-42b8-bdb3-5a283b57dc8a",
        "colab": {
          "base_uri": "https://localhost:8080/"
        }
      },
      "source": [
        "x_train.shape"
      ],
      "execution_count": 3,
      "outputs": [
        {
          "output_type": "execute_result",
          "data": {
            "text/plain": [
              "(60000, 28, 28)"
            ]
          },
          "metadata": {
            "tags": []
          },
          "execution_count": 3
        }
      ]
    },
    {
      "cell_type": "code",
      "metadata": {
        "id": "G8Rl0ru17NKC"
      },
      "source": [
        "# Reshaping \n",
        "x_train = x_train.reshape(x_train.shape[0], 28, 28, 1)\n",
        "x_test = x_test.reshape(x_test.shape[0], 28, 28, 1)\n",
        "\n",
        "# Normalization\n",
        "x_train = x_train / 255\n",
        "x_test = x_test / 255\n",
        "\n",
        "# One Hot Encoding\n",
        "y_train = keras.utils.to_categorical(y_train, 10)\n",
        "y_test = keras.utils.to_categorical(y_test, 10)"
      ],
      "execution_count": 4,
      "outputs": []
    },
    {
      "cell_type": "markdown",
      "metadata": {
        "id": "dMSu950VAeHA"
      },
      "source": [
        "# Modelado\n",
        "\n",
        "## Utilizando las activaciones que usamos siempre"
      ]
    },
    {
      "cell_type": "code",
      "metadata": {
        "id": "fwbUYp1g7NN2"
      },
      "source": [
        "#LeNet Model Architecture\n",
        "\n",
        "model = Sequential()\n",
        "model.add(Conv2D(6, kernel_size=(5, 5), activation='relu', input_shape=(28, 28, 1)))\n",
        "model.add(MaxPooling2D(pool_size=(2, 2)))\n",
        "model.add(Conv2D(16, kernel_size=(5, 5), activation='relu'))\n",
        "model.add(MaxPooling2D(pool_size=(2, 2)))\n",
        "model.add(Flatten())\n",
        "model.add(Dense(120, activation='relu'))\n",
        "model.add(Dense(84, activation='relu'))\n",
        "model.add(Dense(10, activation='softmax'))\n",
        "\n",
        "\n",
        "\n",
        "\n",
        "model.compile(loss=keras.metrics.categorical_crossentropy, \n",
        "              optimizer=keras.optimizers.Adam(), \n",
        "              metrics=['accuracy'])\n",
        "\n"
      ],
      "execution_count": 19,
      "outputs": []
    },
    {
      "cell_type": "code",
      "metadata": {
        "id": "ljeZE4lq7NdL",
        "outputId": "613781be-8acb-461d-9608-e48e9f647d98",
        "colab": {
          "base_uri": "https://localhost:8080/"
        }
      },
      "source": [
        "history = model.fit(x_train, y_train, batch_size=128, epochs=7, verbose=1, validation_data=(x_test, y_test))"
      ],
      "execution_count": 20,
      "outputs": [
        {
          "output_type": "stream",
          "text": [
            "Epoch 1/7\n",
            "469/469 [==============================] - 23s 49ms/step - loss: 0.3167 - accuracy: 0.9031 - val_loss: 0.0953 - val_accuracy: 0.9703\n",
            "Epoch 2/7\n",
            "469/469 [==============================] - 23s 48ms/step - loss: 0.0890 - accuracy: 0.9730 - val_loss: 0.0732 - val_accuracy: 0.9762\n",
            "Epoch 3/7\n",
            "469/469 [==============================] - 23s 48ms/step - loss: 0.0641 - accuracy: 0.9795 - val_loss: 0.0539 - val_accuracy: 0.9828\n",
            "Epoch 4/7\n",
            "469/469 [==============================] - 23s 49ms/step - loss: 0.0506 - accuracy: 0.9844 - val_loss: 0.0414 - val_accuracy: 0.9870\n",
            "Epoch 5/7\n",
            "469/469 [==============================] - 23s 49ms/step - loss: 0.0439 - accuracy: 0.9853 - val_loss: 0.0525 - val_accuracy: 0.9833\n",
            "Epoch 6/7\n",
            "469/469 [==============================] - 23s 49ms/step - loss: 0.0357 - accuracy: 0.9886 - val_loss: 0.0418 - val_accuracy: 0.9862\n",
            "Epoch 7/7\n",
            "469/469 [==============================] - 23s 49ms/step - loss: 0.0326 - accuracy: 0.9900 - val_loss: 0.0400 - val_accuracy: 0.9871\n"
          ],
          "name": "stdout"
        }
      ]
    },
    {
      "cell_type": "code",
      "metadata": {
        "id": "ngGRv6ffAnjh",
        "outputId": "d03956f1-e32f-4a39-e997-6474713f6a07",
        "colab": {
          "base_uri": "https://localhost:8080/",
          "height": 320
        }
      },
      "source": [
        "pd.DataFrame(history.history).plot(figsize=(8, 5))\n",
        "plt.grid(True)\n",
        "plt.gca().set_ylim(0, 1.3)\n",
        "plt.show()"
      ],
      "execution_count": 21,
      "outputs": [
        {
          "output_type": "display_data",
          "data": {
            "image/png": "[encoded data removed]",
            "text/plain": [
              "<Figure size 576x360 with 1 Axes>"
            ]
          },
          "metadata": {
            "tags": [],
            "needs_background": "light"
          }
        }
      ]
    },
    {
      "cell_type": "markdown",
      "metadata": {
        "id": "qEoJt_lT9-dJ"
      },
      "source": [
        "## Probando las activaciones del paper"
      ]
    },
    {
      "cell_type": "code",
      "metadata": {
        "id": "0pBVGv7U991-"
      },
      "source": [
        "#LeNet Model Architecture\n",
        "\n",
        "model2 = Sequential()\n",
        "model2.add(Conv2D(6, kernel_size=(5, 5), activation='tanh', input_shape=(28, 28, 1)))\n",
        "model2.add(MaxPooling2D(pool_size=(2, 2)))\n",
        "model2.add(Conv2D(16, kernel_size=(5, 5), activation='tanh'))\n",
        "model2.add(MaxPooling2D(pool_size=(2, 2)))\n",
        "model2.add(Flatten())\n",
        "model2.add(Dense(120, activation='relu'))\n",
        "model2.add(Dense(84, activation='relu'))\n",
        "model2.add(Dense(10, activation='softmax'))\n",
        "\n",
        "\n",
        "\n",
        "\n",
        "model2.compile(loss=keras.metrics.categorical_crossentropy, \n",
        "              optimizer=keras.optimizers.Adam(), \n",
        "              metrics=['accuracy'])"
      ],
      "execution_count": 10,
      "outputs": []
    },
    {
      "cell_type": "code",
      "metadata": {
        "id": "xHmy_66o994i",
        "outputId": "12ed5d8c-c25e-4147-dbfc-1d54a8b79698",
        "colab": {
          "base_uri": "https://localhost:8080/"
        }
      },
      "source": [
        "history2 = model2.fit(x_train, y_train, batch_size=128, epochs=7, verbose=1, validation_data=(x_test, y_test))"
      ],
      "execution_count": 11,
      "outputs": [
        {
          "output_type": "stream",
          "text": [
            "Epoch 1/7\n",
            "469/469 [==============================] - 23s 49ms/step - loss: 0.3257 - accuracy: 0.9076 - val_loss: 0.0941 - val_accuracy: 0.9726\n",
            "Epoch 2/7\n",
            "469/469 [==============================] - 23s 49ms/step - loss: 0.0877 - accuracy: 0.9737 - val_loss: 0.0631 - val_accuracy: 0.9803\n",
            "Epoch 3/7\n",
            "469/469 [==============================] - 23s 49ms/step - loss: 0.0594 - accuracy: 0.9823 - val_loss: 0.0514 - val_accuracy: 0.9836\n",
            "Epoch 4/7\n",
            "469/469 [==============================] - 23s 50ms/step - loss: 0.0443 - accuracy: 0.9858 - val_loss: 0.0399 - val_accuracy: 0.9869\n",
            "Epoch 5/7\n",
            "469/469 [==============================] - 23s 49ms/step - loss: 0.0355 - accuracy: 0.9887 - val_loss: 0.0368 - val_accuracy: 0.9883\n",
            "Epoch 6/7\n",
            "469/469 [==============================] - 23s 49ms/step - loss: 0.0305 - accuracy: 0.9903 - val_loss: 0.0457 - val_accuracy: 0.9856\n",
            "Epoch 7/7\n",
            "469/469 [==============================] - 23s 49ms/step - loss: 0.0242 - accuracy: 0.9922 - val_loss: 0.0361 - val_accuracy: 0.9879\n"
          ],
          "name": "stdout"
        }
      ]
    },
    {
      "cell_type": "code",
      "metadata": {
        "id": "hPKV1h-T997L",
        "outputId": "06fb3d37-ea9a-4cce-cafb-38ea7906ef46",
        "colab": {
          "base_uri": "https://localhost:8080/",
          "height": 320
        }
      },
      "source": [
        "pd.DataFrame(history2.history).plot(figsize=(8, 5))\n",
        "plt.grid(True)\n",
        "plt.gca().set_ylim(0, 1.3)\n",
        "plt.show()"
      ],
      "execution_count": 18,
      "outputs": [
        {
          "output_type": "display_data",
          "data": {
            "image/png": "[encoded data removed]",
            "text/plain": [
              "<Figure size 576x360 with 1 Axes>"
            ]
          },
          "metadata": {
            "tags": [],
            "needs_background": "light"
          }
        }
      ]
    },
    {
      "cell_type": "markdown",
      "metadata": {
        "id": "atA3c6PsAWM6"
      },
      "source": [
        ""
      ]
    },
    {
      "cell_type": "code",
      "metadata": {
        "id": "yS_Rq8GOAVn-"
      },
      "source": [
        ""
      ],
      "execution_count": null,
      "outputs": []
    },
    {
      "cell_type": "code",
      "metadata": {
        "id": "kA22x8KA99-T"
      },
      "source": [
        ""
      ],
      "execution_count": null,
      "outputs": []
    },
    {
      "cell_type": "code",
      "metadata": {
        "id": "X3P5R-y79-A9"
      },
      "source": [
        ""
      ],
      "execution_count": null,
      "outputs": []
    }
  ]
}